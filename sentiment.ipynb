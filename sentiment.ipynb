{
 "cells": [
  {
   "cell_type": "code",
   "execution_count": 2,
   "id": "de0b5ee1-d698-4155-9276-01c73eba3220",
   "metadata": {},
   "outputs": [],
   "source": [
    "# nlp sentiment"
   ]
  },
  {
   "cell_type": "code",
   "execution_count": 20,
   "id": "01bda80d-eeb3-46d1-b1aa-0340d3113a38",
   "metadata": {
    "jupyter": {
     "source_hidden": true
    },
    "tags": []
   },
   "outputs": [],
   "source": [
    "import pandas as pd\n",
    "import numpy as np"
   ]
  },
  {
   "cell_type": "code",
   "execution_count": 25,
   "id": "80d83e1a-e420-4204-9775-6692387ee537",
   "metadata": {},
   "outputs": [],
   "source": [
    "# IMDB DB"
   ]
  },
  {
   "cell_type": "code",
   "execution_count": null,
   "id": "f47bf613-c43b-4bc6-aa97-ccbbcbda773e",
   "metadata": {},
   "outputs": [],
   "source": [
    "cd /Data/sentiments/"
   ]
  },
  {
   "cell_type": "code",
   "execution_count": 12,
   "id": "d6797d08-7eb1-4f42-91e9-573505f0509f",
   "metadata": {},
   "outputs": [
    {
     "data": {
      "text/html": [
       "<div>\n",
       "<style scoped>\n",
       "    .dataframe tbody tr th:only-of-type {\n",
       "        vertical-align: middle;\n",
       "    }\n",
       "\n",
       "    .dataframe tbody tr th {\n",
       "        vertical-align: top;\n",
       "    }\n",
       "\n",
       "    .dataframe thead th {\n",
       "        text-align: right;\n",
       "    }\n",
       "</style>\n",
       "<table border=\"1\" class=\"dataframe\">\n",
       "  <thead>\n",
       "    <tr style=\"text-align: right;\">\n",
       "      <th></th>\n",
       "      <th>sentence</th>\n",
       "      <th>label</th>\n",
       "    </tr>\n",
       "  </thead>\n",
       "  <tbody>\n",
       "    <tr>\n",
       "      <th>0</th>\n",
       "      <td>A very, very, very slow-moving, aimless movie ...</td>\n",
       "      <td>0</td>\n",
       "    </tr>\n",
       "    <tr>\n",
       "      <th>1</th>\n",
       "      <td>Not sure who was more lost - the flat characte...</td>\n",
       "      <td>0</td>\n",
       "    </tr>\n",
       "  </tbody>\n",
       "</table>\n",
       "</div>"
      ],
      "text/plain": [
       "                                            sentence  label\n",
       "0  A very, very, very slow-moving, aimless movie ...      0\n",
       "1  Not sure who was more lost - the flat characte...      0"
      ]
     },
     "execution_count": 12,
     "metadata": {},
     "output_type": "execute_result"
    }
   ],
   "source": [
    "imdb_raw = pd.read_csv(\"imdb_labelled.txt\" , sep = '\\t', header= None)\n",
    "imdb_raw.columns = ['sentence', 'label']\n",
    "imdb_raw.head(2)"
   ]
  },
  {
   "cell_type": "code",
   "execution_count": 13,
   "id": "2faa65e2-9151-42fb-acad-f2adc3783bee",
   "metadata": {},
   "outputs": [
    {
     "data": {
      "text/plain": [
       "1    386\n",
       "0    362\n",
       "Name: label, dtype: int64"
      ]
     },
     "execution_count": 13,
     "metadata": {},
     "output_type": "execute_result"
    }
   ],
   "source": [
    "#check lables distribution\n",
    "imdb_raw['label'].value_counts(dropna=False)"
   ]
  },
  {
   "cell_type": "code",
   "execution_count": 14,
   "id": "f3c984ef-77e8-450f-8fc3-c08132927d46",
   "metadata": {},
   "outputs": [],
   "source": [
    "# Split to train-test 50-50"
   ]
  },
  {
   "cell_type": "code",
   "execution_count": 15,
   "id": "5d5bb487-a7d9-4a67-93ee-8204743575c9",
   "metadata": {},
   "outputs": [
    {
     "data": {
      "text/plain": [
       "((374, 2), (374, 2))"
      ]
     },
     "execution_count": 15,
     "metadata": {},
     "output_type": "execute_result"
    }
   ],
   "source": [
    "from sklearn.model_selection import train_test_split\n",
    "np.random.seed(12)\n",
    "\n",
    "train, test = train_test_split(imdb_raw, train_size = 0.5)\n",
    "(train.shape, test.shape)"
   ]
  },
  {
   "cell_type": "code",
   "execution_count": 16,
   "id": "ea396dad-94c1-4202-bcb1-c58bd77ef611",
   "metadata": {},
   "outputs": [],
   "source": [
    " # create prompt out of examples"
   ]
  },
  {
   "cell_type": "code",
   "execution_count": 30,
   "id": "cfe3517b-1a61-46b6-b685-30778b3175bc",
   "metadata": {},
   "outputs": [
    {
     "data": {
      "text/html": [
       "<div>\n",
       "<style scoped>\n",
       "    .dataframe tbody tr th:only-of-type {\n",
       "        vertical-align: middle;\n",
       "    }\n",
       "\n",
       "    .dataframe tbody tr th {\n",
       "        vertical-align: top;\n",
       "    }\n",
       "\n",
       "    .dataframe thead th {\n",
       "        text-align: right;\n",
       "    }\n",
       "</style>\n",
       "<table border=\"1\" class=\"dataframe\">\n",
       "  <thead>\n",
       "    <tr style=\"text-align: right;\">\n",
       "      <th></th>\n",
       "      <th>sentence</th>\n",
       "      <th>label</th>\n",
       "    </tr>\n",
       "  </thead>\n",
       "  <tbody>\n",
       "    <tr>\n",
       "      <th>587</th>\n",
       "      <td>I loved it, it was really scary.</td>\n",
       "      <td>1</td>\n",
       "    </tr>\n",
       "    <tr>\n",
       "      <th>361</th>\n",
       "      <td>The best example of how dumb the writing is wh...</td>\n",
       "      <td>0</td>\n",
       "    </tr>\n",
       "    <tr>\n",
       "      <th>647</th>\n",
       "      <td>Director Neil LaBute uses brutal violence to s...</td>\n",
       "      <td>1</td>\n",
       "    </tr>\n",
       "    <tr>\n",
       "      <th>65</th>\n",
       "      <td>I liked this movie way too much.</td>\n",
       "      <td>1</td>\n",
       "    </tr>\n",
       "    <tr>\n",
       "      <th>105</th>\n",
       "      <td>This is a bad film, with bad writing, and good...</td>\n",
       "      <td>0</td>\n",
       "    </tr>\n",
       "    <tr>\n",
       "      <th>601</th>\n",
       "      <td>How this piece of trash was ever released is b...</td>\n",
       "      <td>0</td>\n",
       "    </tr>\n",
       "    <tr>\n",
       "      <th>607</th>\n",
       "      <td>The only place good for this film is in the ga...</td>\n",
       "      <td>0</td>\n",
       "    </tr>\n",
       "    <tr>\n",
       "      <th>176</th>\n",
       "      <td>If you see it, you should probably just leave ...</td>\n",
       "      <td>0</td>\n",
       "    </tr>\n",
       "    <tr>\n",
       "      <th>445</th>\n",
       "      <td>The cast is always entertaining as usual.</td>\n",
       "      <td>1</td>\n",
       "    </tr>\n",
       "    <tr>\n",
       "      <th>711</th>\n",
       "      <td>The film's dialogue is natural, real to life.</td>\n",
       "      <td>1</td>\n",
       "    </tr>\n",
       "  </tbody>\n",
       "</table>\n",
       "</div>"
      ],
      "text/plain": [
       "                                              sentence  label\n",
       "587                 I loved it, it was really scary.        1\n",
       "361  The best example of how dumb the writing is wh...      0\n",
       "647  Director Neil LaBute uses brutal violence to s...      1\n",
       "65                  I liked this movie way too much.        1\n",
       "105  This is a bad film, with bad writing, and good...      0\n",
       "601  How this piece of trash was ever released is b...      0\n",
       "607  The only place good for this film is in the ga...      0\n",
       "176  If you see it, you should probably just leave ...      0\n",
       "445        The cast is always entertaining as usual.        1\n",
       "711    The film's dialogue is natural, real to life.        1"
      ]
     },
     "execution_count": 30,
     "metadata": {},
     "output_type": "execute_result"
    }
   ],
   "source": [
    "n_prompt = 10\n",
    "\n",
    "\n",
    "examples_df = pd.concat([train[train['label'] ==1].sample(n_prompt // 2 , replace=False),\n",
    "                        train[train['label'] ==0].sample(n_prompt // 2 , replace=False)]).sample(frac=1, replace=False)\n",
    "examples_df"
   ]
  },
  {
   "cell_type": "code",
   "execution_count": 43,
   "id": "aa1f86e9-9d27-4f17-ae8e-704a6a02ce61",
   "metadata": {},
   "outputs": [
    {
     "name": "stdout",
     "output_type": "stream",
     "text": [
      "Following are sentences followed by their sentiment:\n",
      "Sentence: I loved it, it was really scary.  \n",
      "Sentiment: positive\n",
      "Sentence: The best example of how dumb the writing is when it's established that you can turn the zombie-students back into humans by removing a necklace containing a piece of the meteorite.  \n",
      "Sentiment: negative\n",
      "Sentence: Director Neil LaBute uses brutal violence to seperate dreams from reality, and along with the touching drama, and hilarious comedy, you can never tell what is going to happen next.  \n",
      "Sentiment: positive\n",
      "Sentence: I liked this movie way too much.  \n",
      "Sentiment: positive\n",
      "Sentence: This is a bad film, with bad writing, and good actors....an ugly cartoon crafted by Paul Haggis for people who can't handle anything but the bold strokes in storytelling....a picture painted with crayons.  \n",
      "Sentiment: negative\n",
      "Sentence: How this piece of trash was ever released is beyond me: the acting, the story, the characters, the supposedly special effects, etc...it's ALL wrong.  \n",
      "Sentiment: negative\n",
      "Sentence: The only place good for this film is in the garbage.  \n",
      "Sentiment: negative\n",
      "Sentence: If you see it, you should probably just leave it on the shelf.  \n",
      "Sentiment: negative\n",
      "Sentence: The cast is always entertaining as usual.  \n",
      "Sentiment: positive\n",
      "Sentence: The film's dialogue is natural, real to life.  \n",
      "Sentiment: positive\n"
     ]
    }
   ],
   "source": [
    "prompt_text = 'Following are sentences followed by their sentiment:\\n' + '\\n'.join(\n",
    "'Sentence: ' + examples_df['sentence'] + '\\n' +\n",
    "'Sentiment: ' + examples_df['label'].map({0: 'negative', 1: 'positive'}))\n",
    "print(prompt_text)"
   ]
  },
  {
   "cell_type": "code",
   "execution_count": 110,
   "id": "b837ef95-f1d0-4c6b-a771-a862f4b40c50",
   "metadata": {},
   "outputs": [],
   "source": [
    "import requests\n",
    "import json\n",
    "def generate_text_from_j1(input_text):\n",
    "\n",
    "    with open(\"my_api_key\", \"r\") as f:\n",
    "        my_key = f.read().strip()\n",
    "        \n",
    "    res = requests.post(\"https://api.ai21.com/studio/v1/j1-large/complete\",\n",
    "        headers={\"Authorization\": my_key},\n",
    "        json={\n",
    "            \"prompt\": input_text,\n",
    "            \"numResults\": 1,\n",
    "            \"maxTokens\": 3,\n",
    "            \"temperature\": 0,\n",
    "            \"topKReturn\": 0,\n",
    "            \"topP\":1,\n",
    "            \"countPenalty\": {\n",
    "                \"scale\": 0,\n",
    "                \"applyToNumbers\": False,\n",
    "                \"applyToPunctuations\": False,\n",
    "                \"applyToStopwords\": False,\n",
    "                \"applyToWhitespaces\": False,\n",
    "                \"applyToEmojis\": False\n",
    "            },\n",
    "            \"frequencyPenalty\": {\n",
    "                \"scale\": 0,\n",
    "                \"applyToNumbers\": False,\n",
    "                \"applyToPunctuations\": False,\n",
    "                \"applyToStopwords\": False,\n",
    "                \"applyToWhitespaces\": False,\n",
    "                \"applyToEmojis\": False\n",
    "            },\n",
    "            \"presencePenalty\": {\n",
    "                \"scale\": 0,\n",
    "                \"applyToNumbers\": False,\n",
    "                \"applyToPunctuations\": False,\n",
    "                \"applyToStopwords\": False,\n",
    "                \"applyToWhitespaces\": False,\n",
    "                \"applyToEmojis\": False\n",
    "          },\n",
    "          \"stopSequences\":['\\n']\n",
    "        }\n",
    "    )\n",
    "    return json.loads(res.content)#.decode())['completions'][0]['data']['text']"
   ]
  },
  {
   "cell_type": "code",
   "execution_count": 111,
   "id": "054f1285-5425-4457-902d-38a8137442aa",
   "metadata": {},
   "outputs": [
    {
     "data": {
      "text/plain": [
       "{'detail': \"Bad request: badly formatted header - Authorization: x7TArtdItPEgpIft1eHO3QTe6bhP9b9J, should be 'Bearer <API_KEY>\"}"
      ]
     },
     "execution_count": 111,
     "metadata": {},
     "output_type": "execute_result"
    }
   ],
   "source": [
    "generate_text_from_j1(\"Hi there: \")"
   ]
  },
  {
   "cell_type": "code",
   "execution_count": null,
   "id": "e4ea10d7-bfaa-4684-8035-1dbf677fe40e",
   "metadata": {},
   "outputs": [],
   "source": []
  }
 ],
 "metadata": {
  "kernelspec": {
   "display_name": "Python 3 (ipykernel)",
   "language": "python",
   "name": "python3"
  },
  "language_info": {
   "codemirror_mode": {
    "name": "ipython",
    "version": 3
   },
   "file_extension": ".py",
   "mimetype": "text/x-python",
   "name": "python",
   "nbconvert_exporter": "python",
   "pygments_lexer": "ipython3",
   "version": "3.8.10"
  }
 },
 "nbformat": 4,
 "nbformat_minor": 5
}
