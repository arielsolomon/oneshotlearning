{
 "cells": [
  {
   "cell_type": "code",
   "execution_count": 2,
   "id": "a6429e76-5144-489d-b6bd-ebce45391c47",
   "metadata": {},
   "outputs": [],
   "source": [
    "import pandas as pd\n",
    "import numpy as np"
   ]
  },
  {
   "cell_type": "code",
   "execution_count": 3,
   "id": "8b67de10-e483-44ef-a804-1ab083a71cfb",
   "metadata": {},
   "outputs": [
    {
     "data": {
      "text/plain": [
       "(568293, 10)"
      ]
     },
     "execution_count": 3,
     "metadata": {},
     "output_type": "execute_result"
    }
   ],
   "source": [
    "df = pd.read_csv('crimes.csv')\n",
    "df.shape"
   ]
  },
  {
   "cell_type": "code",
   "execution_count": 6,
   "id": "3e117938-e1e2-4be2-87d8-28486537c7bd",
   "metadata": {},
   "outputs": [
    {
     "data": {
      "text/html": [
       "<div>\n",
       "<style scoped>\n",
       "    .dataframe tbody tr th:only-of-type {\n",
       "        vertical-align: middle;\n",
       "    }\n",
       "\n",
       "    .dataframe tbody tr th {\n",
       "        vertical-align: top;\n",
       "    }\n",
       "\n",
       "    .dataframe thead th {\n",
       "        text-align: right;\n",
       "    }\n",
       "</style>\n",
       "<table border=\"1\" class=\"dataframe\">\n",
       "  <thead>\n",
       "    <tr style=\"text-align: right;\">\n",
       "      <th></th>\n",
       "      <th>dt</th>\n",
       "      <th>region</th>\n",
       "      <th>police_district</th>\n",
       "      <th>police_merhav</th>\n",
       "      <th>police_station</th>\n",
       "      <th>crime_group</th>\n",
       "      <th>crime_type</th>\n",
       "      <th>tikim_sum</th>\n",
       "      <th>social_rank</th>\n",
       "      <th>population</th>\n",
       "    </tr>\n",
       "  </thead>\n",
       "  <tbody>\n",
       "    <tr>\n",
       "      <th>0</th>\n",
       "      <td>2018-01-01</td>\n",
       "      <td>אילת</td>\n",
       "      <td>מחוז דרומי</td>\n",
       "      <td>מרחב אילת דרום</td>\n",
       "      <td>מרחב אילת דרום</td>\n",
       "      <td>NaN</td>\n",
       "      <td>NaN</td>\n",
       "      <td>199</td>\n",
       "      <td>6</td>\n",
       "      <td>52285</td>\n",
       "    </tr>\n",
       "    <tr>\n",
       "      <th>1</th>\n",
       "      <td>2018-04-01</td>\n",
       "      <td>אילת</td>\n",
       "      <td>מחוז דרומי</td>\n",
       "      <td>מרחב אילת דרום</td>\n",
       "      <td>מרחב אילת דרום</td>\n",
       "      <td>NaN</td>\n",
       "      <td>NaN</td>\n",
       "      <td>301</td>\n",
       "      <td>6</td>\n",
       "      <td>52285</td>\n",
       "    </tr>\n",
       "  </tbody>\n",
       "</table>\n",
       "</div>"
      ],
      "text/plain": [
       "           dt region police_district   police_merhav  police_station  \\\n",
       "0  2018-01-01   אילת      מחוז דרומי  מרחב אילת דרום  מרחב אילת דרום   \n",
       "1  2018-04-01   אילת      מחוז דרומי  מרחב אילת דרום  מרחב אילת דרום   \n",
       "\n",
       "  crime_group crime_type  tikim_sum  social_rank  population  \n",
       "0         NaN        NaN        199            6       52285  \n",
       "1         NaN        NaN        301            6       52285  "
      ]
     },
     "execution_count": 6,
     "metadata": {},
     "output_type": "execute_result"
    }
   ],
   "source": [
    "df.head(2)"
   ]
  },
  {
   "cell_type": "code",
   "execution_count": 10,
   "id": "fd436375-97ae-427d-856c-da5feaca48ef",
   "metadata": {},
   "outputs": [
    {
     "data": {
      "text/plain": [
       "(163, 7, 9)"
      ]
     },
     "execution_count": 10,
     "metadata": {},
     "output_type": "execute_result"
    }
   ],
   "source": [
    "df['region'].nunique(), df['police_district'].nunique(), df['social_rank'].nunique()"
   ]
  },
  {
   "cell_type": "code",
   "execution_count": 12,
   "id": "58f1ca89-d99b-41a9-9843-b04a95c42832",
   "metadata": {},
   "outputs": [
    {
     "data": {
      "text/plain": [
       "('2018-01-01', '2023-01-01')"
      ]
     },
     "execution_count": 12,
     "metadata": {},
     "output_type": "execute_result"
    }
   ],
   "source": [
    "(df['dt'].min(), df['dt'].max())"
   ]
  },
  {
   "cell_type": "code",
   "execution_count": 20,
   "id": "ade3217a-42ad-4813-9bc1-d8e73cee860c",
   "metadata": {},
   "outputs": [],
   "source": [
    "from joypy import joyplot"
   ]
  },
  {
   "cell_type": "code",
   "execution_count": 41,
   "id": "7d6b2e6c-3267-4608-ba3a-334bdcaf685e",
   "metadata": {},
   "outputs": [],
   "source": [
    "to_plot = (df.groupby(['region', 'social_rank'], as_index=False)\n",
    "           .apply(lambda gp: gp['tikim_sum'].sum() / gp['population'].max())).rename(columns={None: 'tikim_normal'})"
   ]
  },
  {
   "cell_type": "code",
   "execution_count": 42,
   "id": "02528798-e5cc-495e-a13f-c14006f0e6a7",
   "metadata": {},
   "outputs": [
    {
     "data": {
      "text/html": [
       "<div>\n",
       "<style scoped>\n",
       "    .dataframe tbody tr th:only-of-type {\n",
       "        vertical-align: middle;\n",
       "    }\n",
       "\n",
       "    .dataframe tbody tr th {\n",
       "        vertical-align: top;\n",
       "    }\n",
       "\n",
       "    .dataframe thead th {\n",
       "        text-align: right;\n",
       "    }\n",
       "</style>\n",
       "<table border=\"1\" class=\"dataframe\">\n",
       "  <thead>\n",
       "    <tr style=\"text-align: right;\">\n",
       "      <th></th>\n",
       "      <th>region</th>\n",
       "      <th>social_rank</th>\n",
       "      <th>tikim_normal</th>\n",
       "    </tr>\n",
       "  </thead>\n",
       "  <tbody>\n",
       "    <tr>\n",
       "      <th>0</th>\n",
       "      <td>אבו סנאן</td>\n",
       "      <td>3</td>\n",
       "      <td>0.128245</td>\n",
       "    </tr>\n",
       "    <tr>\n",
       "      <th>1</th>\n",
       "      <td>אבן יהודה</td>\n",
       "      <td>9</td>\n",
       "      <td>0.135062</td>\n",
       "    </tr>\n",
       "    <tr>\n",
       "      <th>2</th>\n",
       "      <td>אום אל פחם</td>\n",
       "      <td>2</td>\n",
       "      <td>0.134990</td>\n",
       "    </tr>\n",
       "    <tr>\n",
       "      <th>3</th>\n",
       "      <td>אופקים</td>\n",
       "      <td>3</td>\n",
       "      <td>0.244439</td>\n",
       "    </tr>\n",
       "    <tr>\n",
       "      <th>4</th>\n",
       "      <td>אור יהודה</td>\n",
       "      <td>5</td>\n",
       "      <td>0.236464</td>\n",
       "    </tr>\n",
       "    <tr>\n",
       "      <th>...</th>\n",
       "      <td>...</td>\n",
       "      <td>...</td>\n",
       "      <td>...</td>\n",
       "    </tr>\n",
       "    <tr>\n",
       "      <th>158</th>\n",
       "      <td>שוהם</td>\n",
       "      <td>9</td>\n",
       "      <td>0.079259</td>\n",
       "    </tr>\n",
       "    <tr>\n",
       "      <th>159</th>\n",
       "      <td>שפרעם</td>\n",
       "      <td>3</td>\n",
       "      <td>0.193548</td>\n",
       "    </tr>\n",
       "    <tr>\n",
       "      <th>160</th>\n",
       "      <td>תל אביב יפו</td>\n",
       "      <td>8</td>\n",
       "      <td>0.426606</td>\n",
       "    </tr>\n",
       "    <tr>\n",
       "      <th>161</th>\n",
       "      <td>תל מונד</td>\n",
       "      <td>9</td>\n",
       "      <td>0.141966</td>\n",
       "    </tr>\n",
       "    <tr>\n",
       "      <th>162</th>\n",
       "      <td>תל שבע</td>\n",
       "      <td>1</td>\n",
       "      <td>0.208622</td>\n",
       "    </tr>\n",
       "  </tbody>\n",
       "</table>\n",
       "<p>163 rows × 3 columns</p>\n",
       "</div>"
      ],
      "text/plain": [
       "          region  social_rank  tikim_normal\n",
       "0       אבו סנאן            3      0.128245\n",
       "1      אבן יהודה            9      0.135062\n",
       "2     אום אל פחם            2      0.134990\n",
       "3         אופקים            3      0.244439\n",
       "4      אור יהודה            5      0.236464\n",
       "..           ...          ...           ...\n",
       "158         שוהם            9      0.079259\n",
       "159        שפרעם            3      0.193548\n",
       "160  תל אביב יפו            8      0.426606\n",
       "161      תל מונד            9      0.141966\n",
       "162       תל שבע            1      0.208622\n",
       "\n",
       "[163 rows x 3 columns]"
      ]
     },
     "execution_count": 42,
     "metadata": {},
     "output_type": "execute_result"
    }
   ],
   "source": [
    "to_plot"
   ]
  },
  {
   "cell_type": "code",
   "execution_count": 44,
   "id": "b6347abf-fd53-4b3f-b164-3e1f4031acd2",
   "metadata": {},
   "outputs": [
    {
     "data": {
      "image/png": "[encoded data removed]",
      "text/plain": [
       "<Figure size 640x480 with 10 Axes>"
      ]
     },
     "metadata": {},
     "output_type": "display_data"
    }
   ],
   "source": [
    "joyplot(to_plot, by='social_rank',column='tikim_normal');"
   ]
  },
  {
   "cell_type": "code",
   "execution_count": 46,
   "id": "8ec8c404-146c-4cec-ba6c-2ceb954bbfb1",
   "metadata": {},
   "outputs": [
    {
     "data": {
      "text/plain": [
       "' Data do not behave as though: as higher the social rank, the lower the crime cases per capita\\nThe primery suspect: NaN that we saw in df.head'"
      ]
     },
     "execution_count": 46,
     "metadata": {},
     "output_type": "execute_result"
    }
   ],
   "source": [
    "\"\"\" Data do not behave as though: as higher the social rank, the lower the crime cases per capita\n",
    "The primery suspect: NaN that we saw in df.head, need to clearn the dataset\"\"\""
   ]
  },
  {
   "cell_type": "code",
   "execution_count": 47,
   "id": "439381a2-d99e-47c0-bb80-08fc0a0f1193",
   "metadata": {},
   "outputs": [
    {
     "data": {
      "text/plain": [
       "dt                 0.00000\n",
       "region             0.00000\n",
       "police_district    0.00000\n",
       "police_merhav      0.00000\n",
       "police_station     0.00000\n",
       "crime_group        0.00691\n",
       "crime_type         0.00691\n",
       "tikim_sum          0.00000\n",
       "social_rank        0.00000\n",
       "population         0.00000\n",
       "dtype: float64"
      ]
     },
     "execution_count": 47,
     "metadata": {},
     "output_type": "execute_result"
    }
   ],
   "source": [
    "df.isna().mean()"
   ]
  },
  {
   "cell_type": "code",
   "execution_count": 48,
   "id": "cf8f1e26-eb42-43ee-b7e4-b86e0b8a9d20",
   "metadata": {},
   "outputs": [
    {
     "data": {
      "text/plain": [
       "' we see that under crime_group and crime_type the report is not full and detailed (NaN)'"
      ]
     },
     "execution_count": 48,
     "metadata": {},
     "output_type": "execute_result"
    }
   ],
   "source": [
    "\"\"\" we see that under crime_group and crime_type the report is not full and detailed (NaN)\"\"\""
   ]
  },
  {
   "cell_type": "code",
   "execution_count": 49,
   "id": "5699c238-bab0-46b1-9429-7c5efdf70505",
   "metadata": {},
   "outputs": [
    {
     "data": {
      "text/plain": [
       "' Maybe even something worst is correlated in low social rank cities that too much activity/crime leads to sloppy reports'"
      ]
     },
     "execution_count": 49,
     "metadata": {},
     "output_type": "execute_result"
    }
   ],
   "source": [
    "\"\"\" Maybe even something worst is correlated in low social rank cities that too much activity/crime leads to sloppy reports\"\"\""
   ]
  },
  {
   "cell_type": "code",
   "execution_count": 52,
   "id": "2e20dd25-6f7d-4b72-ab55-45233d774973",
   "metadata": {},
   "outputs": [
    {
     "data": {
      "text/plain": [
       "True"
      ]
     },
     "execution_count": 52,
     "metadata": {},
     "output_type": "execute_result"
    }
   ],
   "source": [
    "# is crime type and crime group exactly relate in missing reports\n",
    "(df['crime_type'].isna() == df['crime_group'].isna()).all()"
   ]
  },
  {
   "cell_type": "code",
   "execution_count": 61,
   "id": "804af6a3-7c36-45aa-b86a-5f9c1e4bfa0a",
   "metadata": {},
   "outputs": [
    {
     "data": {
      "text/plain": [
       "<Axes: ylabel='Frequency'>"
      ]
     },
     "execution_count": 61,
     "metadata": {},
     "output_type": "execute_result"
    },
    {
     "data": {
      "image/png": "[encoded data removed]",
      "text/plain": [
       "<Figure size 640x480 with 1 Axes>"
      ]
     },
     "metadata": {},
     "output_type": "display_data"
    }
   ],
   "source": [
    "# Are there cities that specifically mess up the data?\n",
    "to_plot = df.groupby('region').apply(lambda gp: gp['crime_type'].isna().mean())\n",
    "to_plot.plot.hist(bins=100)\n",
    "# we see that there are several problematic cities in reports. May be agressivly delete them will improve our hypothesis"
   ]
  },
  {
   "cell_type": "code",
   "execution_count": 68,
   "id": "08566ccc-3e9a-4d59-8759-9bba4605add5",
   "metadata": {},
   "outputs": [
    {
     "data": {
      "text/plain": [
       "<Axes: ylabel='Frequency'>"
      ]
     },
     "execution_count": 68,
     "metadata": {},
     "output_type": "execute_result"
    },
    {
     "data": {
      "image/png": "[encoded data removed]",
      "text/plain": [
       "<Figure size 640x480 with 1 Axes>"
      ]
     },
     "metadata": {},
     "output_type": "display_data"
    }
   ],
   "source": [
    "# We sum up the cases per cities ('region') that crime type is NaN from total cases (tikim)\n",
    "to_plot = df.groupby('region').apply(lambda gp: gp[gp['crime_type'].isna()]['tikim_sum'].sum() / gp['tikim_sum'].sum())\n",
    "to_plot.plot.hist(bins=100)"
   ]
  },
  {
   "cell_type": "code",
   "execution_count": 69,
   "id": "f6b78100-0b6e-4d85-b42e-dbec82d1935c",
   "metadata": {},
   "outputs": [],
   "source": [
    "#It is obviouse that there are some cities that are outliers and contribute to bad reports\n",
    "# we will delete them and look at the data after deleting them"
   ]
  },
  {
   "cell_type": "code",
   "execution_count": 74,
   "id": "b7be181d-c330-4121-9ab0-f7d52b027028",
   "metadata": {},
   "outputs": [],
   "source": [
    "df = df.groupby('region').filter(lambda gp: gp[gp['crime_type'].isna()]['tikim_sum'].sum() /\n",
    "                                 gp['tikim_sum'].sum()< 0.5)"
   ]
  },
  {
   "cell_type": "code",
   "execution_count": 77,
   "id": "b1a3a7ab-f6e1-4bc1-8792-9ee6786ef713",
   "metadata": {},
   "outputs": [
    {
     "data": {
      "text/html": [
       "<div>\n",
       "<style scoped>\n",
       "    .dataframe tbody tr th:only-of-type {\n",
       "        vertical-align: middle;\n",
       "    }\n",
       "\n",
       "    .dataframe tbody tr th {\n",
       "        vertical-align: top;\n",
       "    }\n",
       "\n",
       "    .dataframe thead th {\n",
       "        text-align: right;\n",
       "    }\n",
       "</style>\n",
       "<table border=\"1\" class=\"dataframe\">\n",
       "  <thead>\n",
       "    <tr style=\"text-align: right;\">\n",
       "      <th></th>\n",
       "      <th>region</th>\n",
       "      <th>social_rank</th>\n",
       "      <th>tikim_normal</th>\n",
       "    </tr>\n",
       "  </thead>\n",
       "  <tbody>\n",
       "    <tr>\n",
       "      <th>0</th>\n",
       "      <td>אבן יהודה</td>\n",
       "      <td>9</td>\n",
       "      <td>0.135062</td>\n",
       "    </tr>\n",
       "    <tr>\n",
       "      <th>1</th>\n",
       "      <td>אופקים</td>\n",
       "      <td>3</td>\n",
       "      <td>0.244439</td>\n",
       "    </tr>\n",
       "    <tr>\n",
       "      <th>2</th>\n",
       "      <td>אור יהודה</td>\n",
       "      <td>5</td>\n",
       "      <td>0.236464</td>\n",
       "    </tr>\n",
       "    <tr>\n",
       "      <th>3</th>\n",
       "      <td>אור עקיבא</td>\n",
       "      <td>5</td>\n",
       "      <td>0.264549</td>\n",
       "    </tr>\n",
       "    <tr>\n",
       "      <th>4</th>\n",
       "      <td>אזור</td>\n",
       "      <td>7</td>\n",
       "      <td>0.182343</td>\n",
       "    </tr>\n",
       "    <tr>\n",
       "      <th>...</th>\n",
       "      <td>...</td>\n",
       "      <td>...</td>\n",
       "      <td>...</td>\n",
       "    </tr>\n",
       "    <tr>\n",
       "      <th>123</th>\n",
       "      <td>שגב שלום</td>\n",
       "      <td>1</td>\n",
       "      <td>0.348939</td>\n",
       "    </tr>\n",
       "    <tr>\n",
       "      <th>124</th>\n",
       "      <td>שדרות</td>\n",
       "      <td>5</td>\n",
       "      <td>0.361670</td>\n",
       "    </tr>\n",
       "    <tr>\n",
       "      <th>125</th>\n",
       "      <td>שוהם</td>\n",
       "      <td>9</td>\n",
       "      <td>0.079259</td>\n",
       "    </tr>\n",
       "    <tr>\n",
       "      <th>126</th>\n",
       "      <td>תל אביב יפו</td>\n",
       "      <td>8</td>\n",
       "      <td>0.426606</td>\n",
       "    </tr>\n",
       "    <tr>\n",
       "      <th>127</th>\n",
       "      <td>תל מונד</td>\n",
       "      <td>9</td>\n",
       "      <td>0.141966</td>\n",
       "    </tr>\n",
       "  </tbody>\n",
       "</table>\n",
       "<p>128 rows × 3 columns</p>\n",
       "</div>"
      ],
      "text/plain": [
       "          region  social_rank  tikim_normal\n",
       "0      אבן יהודה            9      0.135062\n",
       "1         אופקים            3      0.244439\n",
       "2      אור יהודה            5      0.236464\n",
       "3      אור עקיבא            5      0.264549\n",
       "4           אזור            7      0.182343\n",
       "..           ...          ...           ...\n",
       "123     שגב שלום            1      0.348939\n",
       "124        שדרות            5      0.361670\n",
       "125         שוהם            9      0.079259\n",
       "126  תל אביב יפו            8      0.426606\n",
       "127      תל מונד            9      0.141966\n",
       "\n",
       "[128 rows x 3 columns]"
      ]
     },
     "execution_count": 77,
     "metadata": {},
     "output_type": "execute_result"
    }
   ],
   "source": [
    "to_plot = (df.groupby(['region', 'social_rank'], as_index=False)\n",
    "           .apply(lambda gp: gp['tikim_sum'].sum() / gp['population'].max())).rename(columns={None: 'tikim_normal'})\n",
    "to_plot"
   ]
  },
  {
   "cell_type": "code",
   "execution_count": 78,
   "id": "7abc6d17-be89-4473-9031-7eecdeb3e457",
   "metadata": {},
   "outputs": [
    {
     "data": {
      "image/png": "[encoded data removed]",
      "text/plain": [
       "<Figure size 640x480 with 10 Axes>"
      ]
     },
     "metadata": {},
     "output_type": "display_data"
    }
   ],
   "source": [
    "joyplot(to_plot,\n",
    "        by='social_rank',\n",
    "        column='tikim_normal');"
   ]
  },
  {
   "cell_type": "code",
   "execution_count": 81,
   "id": "d4fdab0d-344d-4a35-b0bc-acbc1ac5b4bf",
   "metadata": {},
   "outputs": [
    {
     "data": {
      "text/html": [
       "<div>\n",
       "<style scoped>\n",
       "    .dataframe tbody tr th:only-of-type {\n",
       "        vertical-align: middle;\n",
       "    }\n",
       "\n",
       "    .dataframe tbody tr th {\n",
       "        vertical-align: top;\n",
       "    }\n",
       "\n",
       "    .dataframe thead th {\n",
       "        text-align: right;\n",
       "    }\n",
       "</style>\n",
       "<table border=\"1\" class=\"dataframe\">\n",
       "  <thead>\n",
       "    <tr style=\"text-align: right;\">\n",
       "      <th></th>\n",
       "      <th>region</th>\n",
       "      <th>social_rank</th>\n",
       "      <th>tikim_normal</th>\n",
       "    </tr>\n",
       "  </thead>\n",
       "  <tbody>\n",
       "    <tr>\n",
       "      <th>53</th>\n",
       "      <td>מודיעין עילית</td>\n",
       "      <td>1</td>\n",
       "      <td>0.046653</td>\n",
       "    </tr>\n",
       "    <tr>\n",
       "      <th>118</th>\n",
       "      <td>רכסים</td>\n",
       "      <td>2</td>\n",
       "      <td>0.078042</td>\n",
       "    </tr>\n",
       "    <tr>\n",
       "      <th>15</th>\n",
       "      <td>ביתר עילית</td>\n",
       "      <td>1</td>\n",
       "      <td>0.083757</td>\n",
       "    </tr>\n",
       "    <tr>\n",
       "      <th>6</th>\n",
       "      <td>אלעד</td>\n",
       "      <td>2</td>\n",
       "      <td>0.084147</td>\n",
       "    </tr>\n",
       "    <tr>\n",
       "      <th>16</th>\n",
       "      <td>בני ברק</td>\n",
       "      <td>2</td>\n",
       "      <td>0.098156</td>\n",
       "    </tr>\n",
       "    <tr>\n",
       "      <th>51</th>\n",
       "      <td>מג'דל שמס</td>\n",
       "      <td>3</td>\n",
       "      <td>0.121299</td>\n",
       "    </tr>\n",
       "    <tr>\n",
       "      <th>43</th>\n",
       "      <td>כסיפה</td>\n",
       "      <td>1</td>\n",
       "      <td>0.136968</td>\n",
       "    </tr>\n",
       "    <tr>\n",
       "      <th>14</th>\n",
       "      <td>בית שמש</td>\n",
       "      <td>2</td>\n",
       "      <td>0.137902</td>\n",
       "    </tr>\n",
       "    <tr>\n",
       "      <th>42</th>\n",
       "      <td>כאבול</td>\n",
       "      <td>3</td>\n",
       "      <td>0.158709</td>\n",
       "    </tr>\n",
       "    <tr>\n",
       "      <th>33</th>\n",
       "      <td>חורה</td>\n",
       "      <td>1</td>\n",
       "      <td>0.181358</td>\n",
       "    </tr>\n",
       "    <tr>\n",
       "      <th>103</th>\n",
       "      <td>צפת</td>\n",
       "      <td>2</td>\n",
       "      <td>0.196084</td>\n",
       "    </tr>\n",
       "    <tr>\n",
       "      <th>41</th>\n",
       "      <td>ירושלים</td>\n",
       "      <td>2</td>\n",
       "      <td>0.206336</td>\n",
       "    </tr>\n",
       "    <tr>\n",
       "      <th>49</th>\n",
       "      <td>לקיה</td>\n",
       "      <td>1</td>\n",
       "      <td>0.214367</td>\n",
       "    </tr>\n",
       "    <tr>\n",
       "      <th>54</th>\n",
       "      <td>מועצה אזורית אל קסום</td>\n",
       "      <td>1</td>\n",
       "      <td>0.216478</td>\n",
       "    </tr>\n",
       "    <tr>\n",
       "      <th>81</th>\n",
       "      <td>מועצה אזורית נווה מדבר</td>\n",
       "      <td>1</td>\n",
       "      <td>0.218679</td>\n",
       "    </tr>\n",
       "    <tr>\n",
       "      <th>96</th>\n",
       "      <td>נתיבות</td>\n",
       "      <td>3</td>\n",
       "      <td>0.228491</td>\n",
       "    </tr>\n",
       "    <tr>\n",
       "      <th>1</th>\n",
       "      <td>אופקים</td>\n",
       "      <td>3</td>\n",
       "      <td>0.244439</td>\n",
       "    </tr>\n",
       "    <tr>\n",
       "      <th>18</th>\n",
       "      <td>ג'לג'וליה</td>\n",
       "      <td>3</td>\n",
       "      <td>0.290139</td>\n",
       "    </tr>\n",
       "    <tr>\n",
       "      <th>100</th>\n",
       "      <td>ערד</td>\n",
       "      <td>3</td>\n",
       "      <td>0.303643</td>\n",
       "    </tr>\n",
       "    <tr>\n",
       "      <th>123</th>\n",
       "      <td>שגב שלום</td>\n",
       "      <td>1</td>\n",
       "      <td>0.348939</td>\n",
       "    </tr>\n",
       "  </tbody>\n",
       "</table>\n",
       "</div>"
      ],
      "text/plain": [
       "                     region  social_rank  tikim_normal\n",
       "53            מודיעין עילית            1      0.046653\n",
       "118                   רכסים            2      0.078042\n",
       "15               ביתר עילית            1      0.083757\n",
       "6                      אלעד            2      0.084147\n",
       "16                  בני ברק            2      0.098156\n",
       "51                מג'דל שמס            3      0.121299\n",
       "43                    כסיפה            1      0.136968\n",
       "14                  בית שמש            2      0.137902\n",
       "42                    כאבול            3      0.158709\n",
       "33                     חורה            1      0.181358\n",
       "103                     צפת            2      0.196084\n",
       "41                  ירושלים            2      0.206336\n",
       "49                     לקיה            1      0.214367\n",
       "54     מועצה אזורית אל קסום            1      0.216478\n",
       "81   מועצה אזורית נווה מדבר            1      0.218679\n",
       "96                   נתיבות            3      0.228491\n",
       "1                    אופקים            3      0.244439\n",
       "18                ג'לג'וליה            3      0.290139\n",
       "100                     ערד            3      0.303643\n",
       "123                שגב שלום            1      0.348939"
      ]
     },
     "execution_count": 81,
     "metadata": {},
     "output_type": "execute_result"
    }
   ],
   "source": [
    "# not specific fix\n",
    "# try to filter it according to the 3 low social rank and look and num of cases/capita\n",
    "to_plot[to_plot['social_rank'] <=3].sort_values('tikim_normal')"
   ]
  },
  {
   "cell_type": "code",
   "execution_count": null,
   "id": "44401993-48de-4127-8ba8-2c0ab39a98e5",
   "metadata": {},
   "outputs": [],
   "source": [
    "#May be we need to change hypothesis since say about 5 points will not change things radically\n",
    "# we need to look at sub fields in each region and anlyze differently to find other correlations"
   ]
  }
 ],
 "metadata": {
  "kernelspec": {
   "display_name": "Python 3 (ipykernel)",
   "language": "python",
   "name": "python3"
  },
  "language_info": {
   "codemirror_mode": {
    "name": "ipython",
    "version": 3
   },
   "file_extension": ".py",
   "mimetype": "text/x-python",
   "name": "python",
   "nbconvert_exporter": "python",
   "pygments_lexer": "ipython3",
   "version": "3.10.12"
  }
 },
 "nbformat": 4,
 "nbformat_minor": 5
}
