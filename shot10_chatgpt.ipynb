{
 "cells": [
  {
   "cell_type": "code",
   "execution_count": 1,
   "id": "209e1b15-0506-47be-9789-acc60b18134a",
   "metadata": {},
   "outputs": [],
   "source": [
    "from PIL import Image\n",
    "import os\n",
    "import glob\n",
    "import requests\n",
    "from bs4 import BeautifulSoup as bs\n",
    "from tqdm import trange"
   ]
  },
  {
   "cell_type": "code",
   "execution_count": 2,
   "id": "35deeb5c-f514-4450-b9b7-38e72682fb46",
   "metadata": {},
   "outputs": [],
   "source": [
    "src = '/Data/private_proj/pexels/results/'\n",
    "dest = '/Data/yv5_drons/data/1280_720/images/'"
   ]
  },
  {
   "cell_type": "code",
   "execution_count": 18,
   "id": "752aa710-ab8d-4f29-86b4-0c6fb455f2bd",
   "metadata": {},
   "outputs": [],
   "source": [
    "url = 'https://www.pexels.com/search/person%201280x720/'\n",
    "content = requests.get(url).headers"
   ]
  },
  {
   "cell_type": "code",
   "execution_count": null,
   "id": "7fd78b7e-cd66-40de-9024-83e9f3cf2f38",
   "metadata": {},
   "outputs": [],
   "source": []
  }
 ],
 "metadata": {
  "kernelspec": {
   "display_name": "Python 3 (ipykernel)",
   "language": "python",
   "name": "python3"
  },
  "language_info": {
   "codemirror_mode": {
    "name": "ipython",
    "version": 3
   },
   "file_extension": ".py",
   "mimetype": "text/x-python",
   "name": "python",
   "nbconvert_exporter": "python",
   "pygments_lexer": "ipython3",
   "version": "3.8.10"
  }
 },
 "nbformat": 4,
 "nbformat_minor": 5
}
