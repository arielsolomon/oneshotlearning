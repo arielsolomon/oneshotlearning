{
 "cells": [
  {
   "cell_type": "markdown",
   "id": "9533b16d-1b6e-443b-9c83-68bbe1917f52",
   "metadata": {},
   "source": [
    "# classify wanted adds"
   ]
  },
  {
   "cell_type": "code",
   "execution_count": 1,
   "id": "c1842c08-aa71-4547-9a50-6704af3e1664",
   "metadata": {},
   "outputs": [
    {
     "name": "stderr",
     "output_type": "stream",
     "text": [
      "2023-02-28 09:34:27.793921: W tensorflow/stream_executor/platform/default/dso_loader.cc:64] Could not load dynamic library 'libcudart.so.11.0'; dlerror: libcudart.so.11.0: cannot open shared object file: No such file or directory\n",
      "2023-02-28 09:34:27.793934: I tensorflow/stream_executor/cuda/cudart_stub.cc:29] Ignore above cudart dlerror if you do not have a GPU set up on your machine.\n"
     ]
    }
   ],
   "source": [
    "import pandas as pd\n",
    "import matplotlib.pyplot as plt\n",
    "import seaborn as sns\n",
    "import numpy as np\n",
    "from sklearn.model_selection import train_test_split\n",
    "from setfit import SetFitModel, SetFitTrainer\n",
    "from datasets import Dataset\n",
    "import matplotlib.pyplot as plt\n",
    "import seaborn as sns"
   ]
  },
  {
   "cell_type": "code",
   "execution_count": 2,
   "id": "56c6ae83-a9d2-487a-9e71-2cd0bb9950fd",
   "metadata": {},
   "outputs": [],
   "source": [
    " df = pd.read_csv('job_classification.csv').drop(columns='Unnamed: 0').rename(columns={'class_id': 'label'}).dropna()"
   ]
  },
  {
   "cell_type": "code",
   "execution_count": 3,
   "id": "49cd7e34-cef6-49b5-b796-1c3fca7d33aa",
   "metadata": {},
   "outputs": [
    {
     "data": {
      "text/plain": [
       "label          0\n",
       "title          0\n",
       "description    0\n",
       "dtype: int64"
      ]
     },
     "execution_count": 3,
     "metadata": {},
     "output_type": "execute_result"
    }
   ],
   "source": [
    "df.isna().sum()"
   ]
  },
  {
   "cell_type": "code",
   "execution_count": 4,
   "id": "09f57c2c-b018-4b11-a73b-4b26b6442318",
   "metadata": {},
   "outputs": [
    {
     "data": {
      "text/plain": [
       "3    24.221790\n",
       "0    15.564202\n",
       "5    15.564202\n",
       "2    15.515564\n",
       "4    15.515564\n",
       "1    13.618677\n",
       "Name: label, dtype: float64"
      ]
     },
     "execution_count": 4,
     "metadata": {},
     "output_type": "execute_result"
    }
   ],
   "source": [
    "#is it balanced\n",
    "df['label'].value_counts(normalize=True)*100"
   ]
  },
  {
   "cell_type": "code",
   "execution_count": 5,
   "id": "3b3d4ba1-0d79-417f-88bb-a81c3c4a0155",
   "metadata": {},
   "outputs": [
    {
     "data": {
      "text/plain": [
       "count    2056.000000\n",
       "mean      484.623054\n",
       "std       147.511159\n",
       "min         1.000000\n",
       "25%       467.750000\n",
       "50%       544.000000\n",
       "75%       573.000000\n",
       "max       669.000000\n",
       "Name: description, dtype: float64"
      ]
     },
     "execution_count": 5,
     "metadata": {},
     "output_type": "execute_result"
    }
   ],
   "source": [
    "# there are 6 labels we can use accuracy metric\n",
    "df['description'].str.split().map(len).describe()\n"
   ]
  },
  {
   "cell_type": "markdown",
   "id": "6e2293dd-4734-4b90-b827-f4a3e19715ef",
   "metadata": {},
   "source": [
    "# WE use SefFit which is a transformer based texct feautred classification"
   ]
  },
  {
   "cell_type": "markdown",
   "id": "8f70c281-a6ad-4be9-8f14-17aeff8e89dd",
   "metadata": {},
   "source": [
    "## We concatenate title and description so the model will look at is as whole:"
   ]
  },
  {
   "cell_type": "code",
   "execution_count": 6,
   "id": "0c3117ed-8936-4b9c-828c-3075dcba75b3",
   "metadata": {},
   "outputs": [],
   "source": [
    "df['text'] = df['title'] + '\\n' + df['description']"
   ]
  },
  {
   "cell_type": "code",
   "execution_count": 7,
   "id": "959c6929-4839-4121-9c55-4d28db625546",
   "metadata": {},
   "outputs": [
    {
     "data": {
      "text/plain": [
       "(1644, 412)"
      ]
     },
     "execution_count": 7,
     "metadata": {},
     "output_type": "execute_result"
    }
   ],
   "source": [
    "np.random.seed(22)\n",
    "train_df, test_df = train_test_split(df, test_size = .2, stratify=df['label'])\n",
    "train_df['label'].value_counts(normalize=True)\n",
    "len(train_df), len(test_df)"
   ]
  },
  {
   "cell_type": "markdown",
   "id": "e246f034-26b6-48c3-a148-95433a7e8bb2",
   "metadata": {},
   "source": [
    "# SetFit"
   ]
  },
  {
   "cell_type": "markdown",
   "id": "e1407fc6-f79d-4f1e-8098-463439b13524",
   "metadata": {},
   "source": [
    "## Since it is a drill and we do not have time, we will train only subsample of data"
   ]
  },
  {
   "cell_type": "code",
   "execution_count": 8,
   "id": "981f792e-f86c-4582-bab8-74f118cb0a1a",
   "metadata": {},
   "outputs": [],
   "source": [
    "train_subset, _ = train_test_split(train_df, train_size=200,stratify = train_df['label'])\n",
    "\n",
    "train_ds = Dataset.from_pandas(train_subset)\n",
    "test_ds = Dataset.from_pandas(test_df)"
   ]
  },
  {
   "cell_type": "code",
   "execution_count": 9,
   "id": "5e06bdcc-4b13-4b9d-8cae-b6017fff1128",
   "metadata": {},
   "outputs": [
    {
     "name": "stderr",
     "output_type": "stream",
     "text": [
      "model_head.pkl not found on HuggingFace Hub, initialising classification head with random weights. You should TRAIN this model on a downstream task to use it for predictions and inference.\n"
     ]
    }
   ],
   "source": [
    "# Load SetFit model from Hub\n",
    "model = SetFitModel.from_pretrained(\"sentence-transformers/paraphrase-MiniLM-L6-v2\")\n",
    "\n",
    "# Create trainer\n",
    "trainer = SetFitTrainer(\n",
    "    model=model,\n",
    "    train_dataset=train_ds,\n",
    "    eval_dataset=test_ds,\n",
    "    batch_size=16,\n",
    "    num_iterations=20, # Number of text pairs to generate for contrastive learning\n",
    "    column_mapping={\"text\": \"text\", \"label\": \"label\"},\n",
    "    num_epochs=1 # Number of epochs to use for contrastive learning\n",
    ")"
   ]
  },
  {
   "cell_type": "code",
   "execution_count": 10,
   "id": "a65992a9-4034-486c-9ab3-d4b80444c36d",
   "metadata": {},
   "outputs": [
    {
     "name": "stderr",
     "output_type": "stream",
     "text": [
      "Applying column mapping to training dataset\n",
      "***** Running training *****\n",
      "  Num examples = 8000\n",
      "  Num epochs = 1\n",
      "  Total optimization steps = 500\n",
      "  Total train batch size = 16\n"
     ]
    },
    {
     "data": {
      "application/json": {
       "ascii": false,
       "bar_format": null,
       "colour": null,
       "elapsed": 0.004401683807373047,
       "initial": 0,
       "n": 0,
       "ncols": null,
       "nrows": 24,
       "postfix": null,
       "prefix": "Epoch",
       "rate": null,
       "total": 1,
       "unit": "it",
       "unit_divisor": 1000,
       "unit_scale": false
      },
      "application/vnd.jupyter.widget-view+json": {
       "model_id": "0058021511eb48b1841e3df0db99c25e",
       "version_major": 2,
       "version_minor": 0
      },
      "text/plain": [
       "Epoch:   0%|          | 0/1 [00:00<?, ?it/s]"
      ]
     },
     "metadata": {},
     "output_type": "display_data"
    },
    {
     "data": {
      "application/json": {
       "ascii": false,
       "bar_format": null,
       "colour": null,
       "elapsed": 0.0049550533294677734,
       "initial": 0,
       "n": 0,
       "ncols": null,
       "nrows": 24,
       "postfix": null,
       "prefix": "Iteration",
       "rate": null,
       "total": 500,
       "unit": "it",
       "unit_divisor": 1000,
       "unit_scale": false
      },
      "application/vnd.jupyter.widget-view+json": {
       "model_id": "1c515cb6aaae4788b2ae6cb697ac2204",
       "version_major": 2,
       "version_minor": 0
      },
      "text/plain": [
       "Iteration:   0%|          | 0/500 [00:00<?, ?it/s]"
      ]
     },
     "metadata": {},
     "output_type": "display_data"
    },
    {
     "name": "stderr",
     "output_type": "stream",
     "text": [
      "/home/ariels/.local/lib/python3.8/site-packages/sklearn/linear_model/_logistic.py:444: ConvergenceWarning: lbfgs failed to converge (status=1):\n",
      "STOP: TOTAL NO. of ITERATIONS REACHED LIMIT.\n",
      "\n",
      "Increase the number of iterations (max_iter) or scale the data as shown in:\n",
      "    https://scikit-learn.org/stable/modules/preprocessing.html\n",
      "Please also refer to the documentation for alternative solver options:\n",
      "    https://scikit-learn.org/stable/modules/linear_model.html#logistic-regression\n",
      "  n_iter_i = _check_optimize_result(\n"
     ]
    }
   ],
   "source": [
    "trainer.train()"
   ]
  },
  {
   "cell_type": "code",
   "execution_count": 11,
   "id": "0f57c114-6603-4cbe-a58a-09dc3d11ccea",
   "metadata": {},
   "outputs": [
    {
     "data": {
      "text/plain": [
       "Index(['label', 'title', 'description', 'text'], dtype='object')"
      ]
     },
     "execution_count": 11,
     "metadata": {},
     "output_type": "execute_result"
    }
   ],
   "source": [
    "train_df.columns"
   ]
  },
  {
   "cell_type": "code",
   "execution_count": 12,
   "id": "9be512fe-7206-42ef-be89-a98904bdc95e",
   "metadata": {},
   "outputs": [
    {
     "name": "stderr",
     "output_type": "stream",
     "text": [
      "Applying column mapping to evaluation dataset\n",
      "***** Running evaluation *****\n"
     ]
    },
    {
     "data": {
      "text/plain": [
       "{'accuracy': 0.720873786407767}"
      ]
     },
     "execution_count": 12,
     "metadata": {},
     "output_type": "execute_result"
    }
   ],
   "source": [
    "trainer.evaluate()"
   ]
  },
  {
   "cell_type": "code",
   "execution_count": 13,
   "id": "7984ff83-47c4-4c2f-8a72-414597fa6c90",
   "metadata": {},
   "outputs": [],
   "source": [
    "from sklearn.metrics import confusion_matrix"
   ]
  },
  {
   "cell_type": "code",
   "execution_count": 14,
   "id": "6045a608-2d29-498a-ad78-845dade2910e",
   "metadata": {},
   "outputs": [
    {
     "data": {
      "text/plain": [
       "array([[40, 20,  0,  0,  3,  1],\n",
       "       [29, 24,  0,  0,  3,  0],\n",
       "       [ 0,  0, 40, 22,  2,  0],\n",
       "       [ 0,  0, 20, 79,  1,  0],\n",
       "       [ 0,  0,  0,  1, 57,  6],\n",
       "       [ 0,  0,  0,  1,  6, 57]])"
      ]
     },
     "execution_count": 14,
     "metadata": {},
     "output_type": "execute_result"
    }
   ],
   "source": [
    "test_pred = trainer.model.predict(test_df.reset_index()['text'])\n",
    "confusion_matrix(test_df['label'], test_pred.reshape(-1,1))\n"
   ]
  },
  {
   "cell_type": "code",
   "execution_count": 15,
   "id": "e19d1bce-d1e6-4be9-b655-894b4fc8f479",
   "metadata": {},
   "outputs": [
    {
     "data": {
      "text/plain": [
       "Text(83.40000000000006, 0.5, 'GT')"
      ]
     },
     "execution_count": 15,
     "metadata": {},
     "output_type": "execute_result"
    },
    {
     "data": {
      "image/png": "[encoded data removed]",
      "text/plain": [
       "<Figure size 432x288 with 2 Axes>"
      ]
     },
     "metadata": {
      "needs_background": "light"
     },
     "output_type": "display_data"
    }
   ],
   "source": [
    "sns.heatmap(confusion_matrix(test_df['label'], test_pred), annot=True, square=True)\n",
    "plt.xlabel('pred')\n",
    "plt.ylabel('GT')"
   ]
  },
  {
   "cell_type": "code",
   "execution_count": 16,
   "id": "9742f184-efcf-4c77-a928-0f99aae0dc57",
   "metadata": {},
   "outputs": [],
   "source": [
    "# lets find words that are typical for class"
   ]
  },
  {
   "cell_type": "code",
   "execution_count": 17,
   "id": "b6d5d95f-4cdd-4b9e-a809-4490119e3663",
   "metadata": {},
   "outputs": [],
   "source": [
    "from sklearn.feature_extraction.text import TfidfVectorizer\n"
   ]
  },
  {
   "cell_type": "code",
   "execution_count": 18,
   "id": "205d992f-c852-4ec7-8cc8-ef3e904a9c3b",
   "metadata": {},
   "outputs": [
    {
     "data": {
      "text/html": [
       "<div>\n",
       "<style scoped>\n",
       "    .dataframe tbody tr th:only-of-type {\n",
       "        vertical-align: middle;\n",
       "    }\n",
       "\n",
       "    .dataframe tbody tr th {\n",
       "        vertical-align: top;\n",
       "    }\n",
       "\n",
       "    .dataframe thead th {\n",
       "        text-align: right;\n",
       "    }\n",
       "</style>\n",
       "<table border=\"1\" class=\"dataframe\">\n",
       "  <thead>\n",
       "    <tr style=\"text-align: right;\">\n",
       "      <th></th>\n",
       "      <th>0</th>\n",
       "      <th>1</th>\n",
       "      <th>2</th>\n",
       "      <th>3</th>\n",
       "      <th>4</th>\n",
       "      <th>5</th>\n",
       "    </tr>\n",
       "  </thead>\n",
       "  <tbody>\n",
       "    <tr>\n",
       "      <th>0</th>\n",
       "      <td>health</td>\n",
       "      <td>health</td>\n",
       "      <td>service</td>\n",
       "      <td>work</td>\n",
       "      <td>water</td>\n",
       "      <td>water</td>\n",
       "    </tr>\n",
       "    <tr>\n",
       "      <th>1</th>\n",
       "      <td>care</td>\n",
       "      <td>care</td>\n",
       "      <td>work</td>\n",
       "      <td>airport</td>\n",
       "      <td>work</td>\n",
       "      <td>resources</td>\n",
       "    </tr>\n",
       "    <tr>\n",
       "      <th>2</th>\n",
       "      <td>experience</td>\n",
       "      <td>services</td>\n",
       "      <td>airport</td>\n",
       "      <td>service</td>\n",
       "      <td>experience</td>\n",
       "      <td>engineering</td>\n",
       "    </tr>\n",
       "    <tr>\n",
       "      <th>3</th>\n",
       "      <td>company</td>\n",
       "      <td>experience</td>\n",
       "      <td>company</td>\n",
       "      <td>required</td>\n",
       "      <td>company</td>\n",
       "      <td>experience</td>\n",
       "    </tr>\n",
       "    <tr>\n",
       "      <th>4</th>\n",
       "      <td>patient</td>\n",
       "      <td>department</td>\n",
       "      <td>customer</td>\n",
       "      <td>company</td>\n",
       "      <td>service</td>\n",
       "      <td>design</td>\n",
       "    </tr>\n",
       "  </tbody>\n",
       "</table>\n",
       "</div>"
      ],
      "text/plain": [
       "            0           1         2         3           4            5\n",
       "0      health      health   service      work       water        water\n",
       "1        care        care      work   airport        work    resources\n",
       "2  experience    services   airport   service  experience  engineering\n",
       "3     company  experience   company  required     company   experience\n",
       "4     patient  department  customer   company     service       design"
      ]
     },
     "execution_count": 18,
     "metadata": {},
     "output_type": "execute_result"
    }
   ],
   "source": [
    "vectorizer = TfidfVectorizer(use_idf=False, stop_words='english')\n",
    "\n",
    "mega_text = train_df.groupby('label')['text'].apply(lambda texts:  '\\n'.join(texts))\n",
    "\n",
    "mega_tf = vectorizer.fit_transform(mega_text)\n",
    "mega_tf = pd.DataFrame(mega_tf.todense(),columns=vectorizer.get_feature_names_out()).T\n",
    "\n",
    "pd.DataFrame({\n",
    "    label: mega_tf[label].sort_values(ascending=False).index\n",
    "    for label in range(6)\n",
    "}).head()"
   ]
  },
  {
   "cell_type": "code",
   "execution_count": 19,
   "id": "fd1717b1-b745-4db6-aa15-9483e48bc154",
   "metadata": {},
   "outputs": [],
   "source": [
    "# what are the top 20 words at each class??"
   ]
  },
  {
   "cell_type": "code",
   "execution_count": 20,
   "id": "93dfbf7a-2545-45c9-b4b3-2d20798c7b68",
   "metadata": {},
   "outputs": [
    {
     "data": {
      "text/plain": [
       "label\n",
       "0    0.011719\n",
       "1    0.022321\n",
       "2    0.101961\n",
       "3    0.057789\n",
       "4    0.925490\n",
       "5    0.992188\n",
       "Name: text, dtype: float64"
      ]
     },
     "execution_count": 20,
     "metadata": {},
     "output_type": "execute_result"
    }
   ],
   "source": [
    "train_df.groupby('label')['text'].apply(lambda texts: texts.str.lower().str.contains('water').mean())"
   ]
  },
  {
   "cell_type": "code",
   "execution_count": 21,
   "id": "908d437e-2173-4d1a-b67f-ac0fce55f673",
   "metadata": {},
   "outputs": [],
   "source": [
    "vectorizer = TfidfVectorizer(use_idf=True, stop_words='english', min_df=5, sublinear_tf=True)"
   ]
  },
  {
   "cell_type": "code",
   "execution_count": 25,
   "id": "1d956e77-1602-4286-b84d-876a3e1fbee5",
   "metadata": {},
   "outputs": [
    {
     "data": {
      "text/html": [
       "<div>\n",
       "<style scoped>\n",
       "    .dataframe tbody tr th:only-of-type {\n",
       "        vertical-align: middle;\n",
       "    }\n",
       "\n",
       "    .dataframe tbody tr th {\n",
       "        vertical-align: top;\n",
       "    }\n",
       "\n",
       "    .dataframe thead th {\n",
       "        text-align: right;\n",
       "    }\n",
       "</style>\n",
       "<table border=\"1\" class=\"dataframe\">\n",
       "  <thead>\n",
       "    <tr style=\"text-align: right;\">\n",
       "      <th></th>\n",
       "      <th>00</th>\n",
       "      <th>000</th>\n",
       "      <th>001</th>\n",
       "      <th>00am</th>\n",
       "      <th>00pm</th>\n",
       "      <th>01</th>\n",
       "      <th>02</th>\n",
       "      <th>03</th>\n",
       "      <th>04</th>\n",
       "      <th>06</th>\n",
       "      <th>...</th>\n",
       "      <th>year</th>\n",
       "      <th>yearly</th>\n",
       "      <th>years</th>\n",
       "      <th>yes</th>\n",
       "      <th>yield</th>\n",
       "      <th>york</th>\n",
       "      <th>youth</th>\n",
       "      <th>zealand</th>\n",
       "      <th>zone</th>\n",
       "      <th>zones</th>\n",
       "    </tr>\n",
       "  </thead>\n",
       "  <tbody>\n",
       "    <tr>\n",
       "      <th>0</th>\n",
       "      <td>0.0</td>\n",
       "      <td>0.0</td>\n",
       "      <td>0.0</td>\n",
       "      <td>0.0</td>\n",
       "      <td>0.0</td>\n",
       "      <td>0.0</td>\n",
       "      <td>0.0</td>\n",
       "      <td>0.0</td>\n",
       "      <td>0.0</td>\n",
       "      <td>0.0</td>\n",
       "      <td>...</td>\n",
       "      <td>0.000000</td>\n",
       "      <td>0.0</td>\n",
       "      <td>0.000000</td>\n",
       "      <td>0.0</td>\n",
       "      <td>0.0</td>\n",
       "      <td>0.0</td>\n",
       "      <td>0.0</td>\n",
       "      <td>0.0</td>\n",
       "      <td>0.0</td>\n",
       "      <td>0.0</td>\n",
       "    </tr>\n",
       "    <tr>\n",
       "      <th>1</th>\n",
       "      <td>0.0</td>\n",
       "      <td>0.0</td>\n",
       "      <td>0.0</td>\n",
       "      <td>0.0</td>\n",
       "      <td>0.0</td>\n",
       "      <td>0.0</td>\n",
       "      <td>0.0</td>\n",
       "      <td>0.0</td>\n",
       "      <td>0.0</td>\n",
       "      <td>0.0</td>\n",
       "      <td>...</td>\n",
       "      <td>0.000000</td>\n",
       "      <td>0.0</td>\n",
       "      <td>0.000000</td>\n",
       "      <td>0.0</td>\n",
       "      <td>0.0</td>\n",
       "      <td>0.0</td>\n",
       "      <td>0.0</td>\n",
       "      <td>0.0</td>\n",
       "      <td>0.0</td>\n",
       "      <td>0.0</td>\n",
       "    </tr>\n",
       "    <tr>\n",
       "      <th>2</th>\n",
       "      <td>0.0</td>\n",
       "      <td>0.0</td>\n",
       "      <td>0.0</td>\n",
       "      <td>0.0</td>\n",
       "      <td>0.0</td>\n",
       "      <td>0.0</td>\n",
       "      <td>0.0</td>\n",
       "      <td>0.0</td>\n",
       "      <td>0.0</td>\n",
       "      <td>0.0</td>\n",
       "      <td>...</td>\n",
       "      <td>0.000000</td>\n",
       "      <td>0.0</td>\n",
       "      <td>0.056445</td>\n",
       "      <td>0.0</td>\n",
       "      <td>0.0</td>\n",
       "      <td>0.0</td>\n",
       "      <td>0.0</td>\n",
       "      <td>0.0</td>\n",
       "      <td>0.0</td>\n",
       "      <td>0.0</td>\n",
       "    </tr>\n",
       "    <tr>\n",
       "      <th>3</th>\n",
       "      <td>0.0</td>\n",
       "      <td>0.0</td>\n",
       "      <td>0.0</td>\n",
       "      <td>0.0</td>\n",
       "      <td>0.0</td>\n",
       "      <td>0.0</td>\n",
       "      <td>0.0</td>\n",
       "      <td>0.0</td>\n",
       "      <td>0.0</td>\n",
       "      <td>0.0</td>\n",
       "      <td>...</td>\n",
       "      <td>0.000000</td>\n",
       "      <td>0.0</td>\n",
       "      <td>0.000000</td>\n",
       "      <td>0.0</td>\n",
       "      <td>0.0</td>\n",
       "      <td>0.0</td>\n",
       "      <td>0.0</td>\n",
       "      <td>0.0</td>\n",
       "      <td>0.0</td>\n",
       "      <td>0.0</td>\n",
       "    </tr>\n",
       "    <tr>\n",
       "      <th>4</th>\n",
       "      <td>0.0</td>\n",
       "      <td>0.0</td>\n",
       "      <td>0.0</td>\n",
       "      <td>0.0</td>\n",
       "      <td>0.0</td>\n",
       "      <td>0.0</td>\n",
       "      <td>0.0</td>\n",
       "      <td>0.0</td>\n",
       "      <td>0.0</td>\n",
       "      <td>0.0</td>\n",
       "      <td>...</td>\n",
       "      <td>0.000000</td>\n",
       "      <td>0.0</td>\n",
       "      <td>0.000000</td>\n",
       "      <td>0.0</td>\n",
       "      <td>0.0</td>\n",
       "      <td>0.0</td>\n",
       "      <td>0.0</td>\n",
       "      <td>0.0</td>\n",
       "      <td>0.0</td>\n",
       "      <td>0.0</td>\n",
       "    </tr>\n",
       "    <tr>\n",
       "      <th>...</th>\n",
       "      <td>...</td>\n",
       "      <td>...</td>\n",
       "      <td>...</td>\n",
       "      <td>...</td>\n",
       "      <td>...</td>\n",
       "      <td>...</td>\n",
       "      <td>...</td>\n",
       "      <td>...</td>\n",
       "      <td>...</td>\n",
       "      <td>...</td>\n",
       "      <td>...</td>\n",
       "      <td>...</td>\n",
       "      <td>...</td>\n",
       "      <td>...</td>\n",
       "      <td>...</td>\n",
       "      <td>...</td>\n",
       "      <td>...</td>\n",
       "      <td>...</td>\n",
       "      <td>...</td>\n",
       "      <td>...</td>\n",
       "      <td>...</td>\n",
       "    </tr>\n",
       "    <tr>\n",
       "      <th>1639</th>\n",
       "      <td>0.0</td>\n",
       "      <td>0.0</td>\n",
       "      <td>0.0</td>\n",
       "      <td>0.0</td>\n",
       "      <td>0.0</td>\n",
       "      <td>0.0</td>\n",
       "      <td>0.0</td>\n",
       "      <td>0.0</td>\n",
       "      <td>0.0</td>\n",
       "      <td>0.0</td>\n",
       "      <td>...</td>\n",
       "      <td>0.057166</td>\n",
       "      <td>0.0</td>\n",
       "      <td>0.051857</td>\n",
       "      <td>0.0</td>\n",
       "      <td>0.0</td>\n",
       "      <td>0.0</td>\n",
       "      <td>0.0</td>\n",
       "      <td>0.0</td>\n",
       "      <td>0.0</td>\n",
       "      <td>0.0</td>\n",
       "    </tr>\n",
       "    <tr>\n",
       "      <th>1640</th>\n",
       "      <td>0.0</td>\n",
       "      <td>0.0</td>\n",
       "      <td>0.0</td>\n",
       "      <td>0.0</td>\n",
       "      <td>0.0</td>\n",
       "      <td>0.0</td>\n",
       "      <td>0.0</td>\n",
       "      <td>0.0</td>\n",
       "      <td>0.0</td>\n",
       "      <td>0.0</td>\n",
       "      <td>...</td>\n",
       "      <td>0.054875</td>\n",
       "      <td>0.0</td>\n",
       "      <td>0.000000</td>\n",
       "      <td>0.0</td>\n",
       "      <td>0.0</td>\n",
       "      <td>0.0</td>\n",
       "      <td>0.0</td>\n",
       "      <td>0.0</td>\n",
       "      <td>0.0</td>\n",
       "      <td>0.0</td>\n",
       "    </tr>\n",
       "    <tr>\n",
       "      <th>1641</th>\n",
       "      <td>0.0</td>\n",
       "      <td>0.0</td>\n",
       "      <td>0.0</td>\n",
       "      <td>0.0</td>\n",
       "      <td>0.0</td>\n",
       "      <td>0.0</td>\n",
       "      <td>0.0</td>\n",
       "      <td>0.0</td>\n",
       "      <td>0.0</td>\n",
       "      <td>0.0</td>\n",
       "      <td>...</td>\n",
       "      <td>0.000000</td>\n",
       "      <td>0.0</td>\n",
       "      <td>0.000000</td>\n",
       "      <td>0.0</td>\n",
       "      <td>0.0</td>\n",
       "      <td>0.0</td>\n",
       "      <td>0.0</td>\n",
       "      <td>0.0</td>\n",
       "      <td>0.0</td>\n",
       "      <td>0.0</td>\n",
       "    </tr>\n",
       "    <tr>\n",
       "      <th>1642</th>\n",
       "      <td>0.0</td>\n",
       "      <td>0.0</td>\n",
       "      <td>0.0</td>\n",
       "      <td>0.0</td>\n",
       "      <td>0.0</td>\n",
       "      <td>0.0</td>\n",
       "      <td>0.0</td>\n",
       "      <td>0.0</td>\n",
       "      <td>0.0</td>\n",
       "      <td>0.0</td>\n",
       "      <td>...</td>\n",
       "      <td>0.046957</td>\n",
       "      <td>0.0</td>\n",
       "      <td>0.000000</td>\n",
       "      <td>0.0</td>\n",
       "      <td>0.0</td>\n",
       "      <td>0.0</td>\n",
       "      <td>0.0</td>\n",
       "      <td>0.0</td>\n",
       "      <td>0.0</td>\n",
       "      <td>0.0</td>\n",
       "    </tr>\n",
       "    <tr>\n",
       "      <th>1643</th>\n",
       "      <td>0.0</td>\n",
       "      <td>0.0</td>\n",
       "      <td>0.0</td>\n",
       "      <td>0.0</td>\n",
       "      <td>0.0</td>\n",
       "      <td>0.0</td>\n",
       "      <td>0.0</td>\n",
       "      <td>0.0</td>\n",
       "      <td>0.0</td>\n",
       "      <td>0.0</td>\n",
       "      <td>...</td>\n",
       "      <td>0.000000</td>\n",
       "      <td>0.0</td>\n",
       "      <td>0.000000</td>\n",
       "      <td>0.0</td>\n",
       "      <td>0.0</td>\n",
       "      <td>0.0</td>\n",
       "      <td>0.0</td>\n",
       "      <td>0.0</td>\n",
       "      <td>0.0</td>\n",
       "      <td>0.0</td>\n",
       "    </tr>\n",
       "  </tbody>\n",
       "</table>\n",
       "<p>1644 rows × 5871 columns</p>\n",
       "</div>"
      ],
      "text/plain": [
       "       00  000  001  00am  00pm   01   02   03   04   06  ...      year  \\\n",
       "0     0.0  0.0  0.0   0.0   0.0  0.0  0.0  0.0  0.0  0.0  ...  0.000000   \n",
       "1     0.0  0.0  0.0   0.0   0.0  0.0  0.0  0.0  0.0  0.0  ...  0.000000   \n",
       "2     0.0  0.0  0.0   0.0   0.0  0.0  0.0  0.0  0.0  0.0  ...  0.000000   \n",
       "3     0.0  0.0  0.0   0.0   0.0  0.0  0.0  0.0  0.0  0.0  ...  0.000000   \n",
       "4     0.0  0.0  0.0   0.0   0.0  0.0  0.0  0.0  0.0  0.0  ...  0.000000   \n",
       "...   ...  ...  ...   ...   ...  ...  ...  ...  ...  ...  ...       ...   \n",
       "1639  0.0  0.0  0.0   0.0   0.0  0.0  0.0  0.0  0.0  0.0  ...  0.057166   \n",
       "1640  0.0  0.0  0.0   0.0   0.0  0.0  0.0  0.0  0.0  0.0  ...  0.054875   \n",
       "1641  0.0  0.0  0.0   0.0   0.0  0.0  0.0  0.0  0.0  0.0  ...  0.000000   \n",
       "1642  0.0  0.0  0.0   0.0   0.0  0.0  0.0  0.0  0.0  0.0  ...  0.046957   \n",
       "1643  0.0  0.0  0.0   0.0   0.0  0.0  0.0  0.0  0.0  0.0  ...  0.000000   \n",
       "\n",
       "      yearly     years  yes  yield  york  youth  zealand  zone  zones  \n",
       "0        0.0  0.000000  0.0    0.0   0.0    0.0      0.0   0.0    0.0  \n",
       "1        0.0  0.000000  0.0    0.0   0.0    0.0      0.0   0.0    0.0  \n",
       "2        0.0  0.056445  0.0    0.0   0.0    0.0      0.0   0.0    0.0  \n",
       "3        0.0  0.000000  0.0    0.0   0.0    0.0      0.0   0.0    0.0  \n",
       "4        0.0  0.000000  0.0    0.0   0.0    0.0      0.0   0.0    0.0  \n",
       "...      ...       ...  ...    ...   ...    ...      ...   ...    ...  \n",
       "1639     0.0  0.051857  0.0    0.0   0.0    0.0      0.0   0.0    0.0  \n",
       "1640     0.0  0.000000  0.0    0.0   0.0    0.0      0.0   0.0    0.0  \n",
       "1641     0.0  0.000000  0.0    0.0   0.0    0.0      0.0   0.0    0.0  \n",
       "1642     0.0  0.000000  0.0    0.0   0.0    0.0      0.0   0.0    0.0  \n",
       "1643     0.0  0.000000  0.0    0.0   0.0    0.0      0.0   0.0    0.0  \n",
       "\n",
       "[1644 rows x 5871 columns]"
      ]
     },
     "execution_count": 25,
     "metadata": {},
     "output_type": "execute_result"
    }
   ],
   "source": [
    "vec_df = vectorizer.fit_transform(train_df['text'])\n",
    "vec_df = pd.DataFrame(vec_df.todense(), columns = vectorizer.get_feature_names_out())\n",
    "vec_df"
   ]
  },
  {
   "cell_type": "code",
   "execution_count": 23,
   "id": "b4292915-300f-4f23-b796-c982a8f26b70",
   "metadata": {},
   "outputs": [],
   "source": [
    "from sklearn.feature_selection import chi2"
   ]
  },
  {
   "cell_type": "code",
   "execution_count": 36,
   "id": "0dede1c7-9e51-4e59-b6d3-698acef79b18",
   "metadata": {},
   "outputs": [
    {
     "data": {
      "text/html": [
       "<div>\n",
       "<style scoped>\n",
       "    .dataframe tbody tr th:only-of-type {\n",
       "        vertical-align: middle;\n",
       "    }\n",
       "\n",
       "    .dataframe tbody tr th {\n",
       "        vertical-align: top;\n",
       "    }\n",
       "\n",
       "    .dataframe thead th {\n",
       "        text-align: right;\n",
       "    }\n",
       "</style>\n",
       "<table border=\"1\" class=\"dataframe\">\n",
       "  <thead>\n",
       "    <tr style=\"text-align: right;\">\n",
       "      <th></th>\n",
       "      <th>0</th>\n",
       "      <th>1</th>\n",
       "      <th>2</th>\n",
       "      <th>3</th>\n",
       "      <th>4</th>\n",
       "      <th>5</th>\n",
       "    </tr>\n",
       "  </thead>\n",
       "  <tbody>\n",
       "    <tr>\n",
       "      <th>0</th>\n",
       "      <td>clinical</td>\n",
       "      <td>health</td>\n",
       "      <td>rent</td>\n",
       "      <td>airport</td>\n",
       "      <td>water</td>\n",
       "      <td>resources</td>\n",
       "    </tr>\n",
       "    <tr>\n",
       "      <th>1</th>\n",
       "      <td>patients</td>\n",
       "      <td>patient</td>\n",
       "      <td>enterprise</td>\n",
       "      <td>lax</td>\n",
       "      <td>distribution</td>\n",
       "      <td>hec</td>\n",
       "    </tr>\n",
       "    <tr>\n",
       "      <th>2</th>\n",
       "      <td>health</td>\n",
       "      <td>department</td>\n",
       "      <td>car</td>\n",
       "      <td>water</td>\n",
       "      <td>operator</td>\n",
       "      <td>civil</td>\n",
       "    </tr>\n",
       "    <tr>\n",
       "      <th>3</th>\n",
       "      <td>patient</td>\n",
       "      <td>nursing</td>\n",
       "      <td>rental</td>\n",
       "      <td>wayne</td>\n",
       "      <td>wastewater</td>\n",
       "      <td>stormwater</td>\n",
       "    </tr>\n",
       "    <tr>\n",
       "      <th>4</th>\n",
       "      <td>care</td>\n",
       "      <td>care</td>\n",
       "      <td>hospitality</td>\n",
       "      <td>ramp</td>\n",
       "      <td>meter</td>\n",
       "      <td>engineering</td>\n",
       "    </tr>\n",
       "    <tr>\n",
       "      <th>5</th>\n",
       "      <td>hospital</td>\n",
       "      <td>county</td>\n",
       "      <td>airport</td>\n",
       "      <td>aircraft</td>\n",
       "      <td>meters</td>\n",
       "      <td>engineer</td>\n",
       "    </tr>\n",
       "    <tr>\n",
       "      <th>6</th>\n",
       "      <td>nursing</td>\n",
       "      <td>mental</td>\n",
       "      <td>guest</td>\n",
       "      <td>health</td>\n",
       "      <td>plant</td>\n",
       "      <td>modeling</td>\n",
       "    </tr>\n",
       "    <tr>\n",
       "      <th>7</th>\n",
       "      <td>massachusetts</td>\n",
       "      <td>nurse</td>\n",
       "      <td>lot</td>\n",
       "      <td>john</td>\n",
       "      <td>valves</td>\n",
       "      <td>hydrologic</td>\n",
       "    </tr>\n",
       "    <tr>\n",
       "      <th>8</th>\n",
       "      <td>baystate</td>\n",
       "      <td>community</td>\n",
       "      <td>dfw</td>\n",
       "      <td>stand</td>\n",
       "      <td>plants</td>\n",
       "      <td>water</td>\n",
       "    </tr>\n",
       "    <tr>\n",
       "      <th>9</th>\n",
       "      <td>therapy</td>\n",
       "      <td>medical</td>\n",
       "      <td>alamo</td>\n",
       "      <td>lift</td>\n",
       "      <td>hydrants</td>\n",
       "      <td>hydraulic</td>\n",
       "    </tr>\n",
       "    <tr>\n",
       "      <th>10</th>\n",
       "      <td>nurse</td>\n",
       "      <td>patients</td>\n",
       "      <td>fault</td>\n",
       "      <td>police</td>\n",
       "      <td>swrcb</td>\n",
       "      <td>drainage</td>\n",
       "    </tr>\n",
       "    <tr>\n",
       "      <th>11</th>\n",
       "      <td>physicians</td>\n",
       "      <td>va</td>\n",
       "      <td>den</td>\n",
       "      <td>baggage</td>\n",
       "      <td>installation</td>\n",
       "      <td>design</td>\n",
       "    </tr>\n",
       "    <tr>\n",
       "      <th>12</th>\n",
       "      <td>healthcare</td>\n",
       "      <td>evaluator</td>\n",
       "      <td>antenna</td>\n",
       "      <td>trip</td>\n",
       "      <td>awwa</td>\n",
       "      <td>ras</td>\n",
       "    </tr>\n",
       "    <tr>\n",
       "      <th>13</th>\n",
       "      <td>registered</td>\n",
       "      <td>chief</td>\n",
       "      <td>miscellaneous</td>\n",
       "      <td>morning</td>\n",
       "      <td>district</td>\n",
       "      <td>flood</td>\n",
       "    </tr>\n",
       "    <tr>\n",
       "      <th>14</th>\n",
       "      <td>therapist</td>\n",
       "      <td>dph</td>\n",
       "      <td>hilton</td>\n",
       "      <td>shuttle</td>\n",
       "      <td>valve</td>\n",
       "      <td>hydrology</td>\n",
       "    </tr>\n",
       "    <tr>\n",
       "      <th>15</th>\n",
       "      <td>occupational</td>\n",
       "      <td>medi</td>\n",
       "      <td>cars</td>\n",
       "      <td>noise</td>\n",
       "      <td>utilities</td>\n",
       "      <td>watershed</td>\n",
       "    </tr>\n",
       "    <tr>\n",
       "      <th>16</th>\n",
       "      <td>pharmacy</td>\n",
       "      <td>clinical</td>\n",
       "      <td>hood</td>\n",
       "      <td>habit</td>\n",
       "      <td>mains</td>\n",
       "      <td>storm</td>\n",
       "    </tr>\n",
       "    <tr>\n",
       "      <th>17</th>\n",
       "      <td>medical</td>\n",
       "      <td>filing</td>\n",
       "      <td>stickers</td>\n",
       "      <td>security</td>\n",
       "      <td>ocsd</td>\n",
       "      <td>autocad</td>\n",
       "    </tr>\n",
       "    <tr>\n",
       "      <th>18</th>\n",
       "      <td>springfield</td>\n",
       "      <td>collaborates</td>\n",
       "      <td>antifreeze</td>\n",
       "      <td>rides</td>\n",
       "      <td>niagara</td>\n",
       "      <td>hms</td>\n",
       "    </tr>\n",
       "    <tr>\n",
       "      <th>19</th>\n",
       "      <td>rn</td>\n",
       "      <td>healthcare</td>\n",
       "      <td>vehicle</td>\n",
       "      <td>creature</td>\n",
       "      <td>grade</td>\n",
       "      <td>gis</td>\n",
       "    </tr>\n",
       "  </tbody>\n",
       "</table>\n",
       "</div>"
      ],
      "text/plain": [
       "                0             1              2         3             4  \\\n",
       "0        clinical        health           rent   airport         water   \n",
       "1        patients       patient     enterprise       lax  distribution   \n",
       "2          health    department            car     water      operator   \n",
       "3         patient       nursing         rental     wayne    wastewater   \n",
       "4            care          care    hospitality      ramp         meter   \n",
       "5        hospital        county        airport  aircraft        meters   \n",
       "6         nursing        mental          guest    health         plant   \n",
       "7   massachusetts         nurse            lot      john        valves   \n",
       "8        baystate     community            dfw     stand        plants   \n",
       "9         therapy       medical          alamo      lift      hydrants   \n",
       "10          nurse      patients          fault    police         swrcb   \n",
       "11     physicians            va            den   baggage  installation   \n",
       "12     healthcare     evaluator        antenna      trip          awwa   \n",
       "13     registered         chief  miscellaneous   morning      district   \n",
       "14      therapist           dph         hilton   shuttle         valve   \n",
       "15   occupational          medi           cars     noise     utilities   \n",
       "16       pharmacy      clinical           hood     habit         mains   \n",
       "17        medical        filing       stickers  security          ocsd   \n",
       "18    springfield  collaborates     antifreeze     rides       niagara   \n",
       "19             rn    healthcare        vehicle  creature         grade   \n",
       "\n",
       "              5  \n",
       "0     resources  \n",
       "1           hec  \n",
       "2         civil  \n",
       "3    stormwater  \n",
       "4   engineering  \n",
       "5      engineer  \n",
       "6      modeling  \n",
       "7    hydrologic  \n",
       "8         water  \n",
       "9     hydraulic  \n",
       "10     drainage  \n",
       "11       design  \n",
       "12          ras  \n",
       "13        flood  \n",
       "14    hydrology  \n",
       "15    watershed  \n",
       "16        storm  \n",
       "17      autocad  \n",
       "18          hms  \n",
       "19          gis  "
      ]
     },
     "execution_count": 36,
     "metadata": {},
     "output_type": "execute_result"
    }
   ],
   "source": [
    "pd.DataFrame({label:\n",
    "vec_df.columns[np.argsort(chi2(vec_df, train_df['label']==label)[1])]\n",
    " for label in range(6)}\n",
    "            ).head(20)\n"
   ]
  },
  {
   "cell_type": "code",
   "execution_count": 91,
   "id": "f589df2c-4ca2-483a-a6b2-248f87ae35a2",
   "metadata": {},
   "outputs": [
    {
     "data": {
      "text/plain": [
       "'Ramp Agent\\nSUMMARY: As an Airport Ramp Agent you will support airlines by overseeing direction of a variety of aircraft ground handling services including, but not limited to ramp, baggage, cabin cleaning services, GSE maintenance, and customer service functions. Essential Duties and Responsibilities of an Airport Ramp Agent - include the following. Other duties may be assigned.  Ensures a safe work environment by following all ATS rules and regulations regarding the work place.  Marshals inbound... aircraft into ramp area of assigned gate.  Unloads passenger baggage, cargo and mail from aircraft bins while plane is parked at the gate on to bag carts.  Delivers loaded bag carts using tugs to bag room and unloads bag cars on to conveyor belt which will bring the bags to the carousals for passenger pick up.  Delivers bag carts of mail to airport post office and picks up loaded carts for out going flights.  Delivers bag carts of cargo to the cargo area and picks up loaded carts for out going flights.  Services aircraft lavatories.  Grooms aircraft passenger cabin between flights.  Services aircraft water tanks to ensure there is enough drinking water on the plane.  Stocks aircraft with needed supplies for lavatories or galleys.  Loads bag carts in the bag room with baggage from the ticket counter for outgoing flights and delivers them to aircraft.  Loads passenger baggage, cargo and mail into aircraft bins while plane is parked at the gate from bag carts.  Pushes back outbound aircraft out of the gate area.  Tows aircraft to remote areas at the airport if there are too many aircraft on the ground and not enough gate space.  Performs FOD walks in the ramp area between flights.  Ensures necessary ground equipment is available in the ramp area and bag room for upcoming flights.  Performs assigned administrative duties on a voluntary basis (e.g. GSE fluid inspections and appearance, FOD walks, washing equipment and removing trash from ramp area\\naircraft into ramp area of assigned gate.  Unloads passenger baggage, cargo and mail from aircraft bins while plane is parked at the gate on to bag carts.  Delivers loaded bag carts using tugs to bag room and unloads bag cars on to conveyor belt which will bring the bags to the carousals for passenger pick up.  Delivers bag carts of mail to airport post office and picks up loaded carts for out going flights.  Delivers bag carts of cargo to the cargo area and picks up loaded carts for out going flights.  Services aircraft lavatories.  Grooms aircraft passenger cabin between flights.  Services aircraft water tanks to ensure there is enough drinking water on the plane.  Stocks aircraft with needed supplies for lavatories or galleys.  Loads bag carts in the bag room with baggage from the ticket counter for outgoing flights and delivers them to aircraft.  Loads passenger baggage, cargo and mail into aircraft bins while plane is parked at the gate from bag carts.  Pushes back outbound aircraft out of the gate area.  Tows aircraft to remote areas at the airport if there are too many aircraft on the ground and not enough gate space.  Performs FOD walks in the ramp area between flights.  Ensures necessary ground equipment is available in the ramp area and bag room for upcoming flights.  Performs assigned administrative duties on a voluntary basis (e.g. GSE fluid inspections and appearance, FOD walks, washing equipment and removing trash from ramp area\\n'"
      ]
     },
     "execution_count": 91,
     "metadata": {},
     "output_type": "execute_result"
    }
   ],
   "source": [
    "train_df[(~train_df['text'].str.lower().str.contains('wayne'))\n",
    "        & (train_df['text'].str.lower().str.contains('airport'))]['text'].sample(1).iloc[0]\n",
    "#Looks there is a geographical issue between class 2 and class 3"
   ]
  },
  {
   "cell_type": "code",
   "execution_count": 125,
   "id": "3105a1a2-0ccf-4370-9d44-ca03efc2350e",
   "metadata": {},
   "outputs": [
    {
     "data": {
      "text/plain": [
       "'General Manager\\nDescription Job Duties & Essential Functions The GM is responsible for the overall management and operation of the hotel including profitability, guest service, quality, and overall cleanliness & maintenance of the property  Lead the Executive and Management team effectively.  Plans, develops and implements hotel policies and goals.  Coordinates activities of departments such as rooms, food, beverage, engineering, sales, and administrative to create operational efficiency and economy. ... Directs and coordinates promotion of products and services to develop new markets, increase share of market, and obtain a competitive position in the industry.  Analyzes department budget requests to identify areas in which reductions can be made and allocates operating budget.  Confers with personnel and reviews activity, operating and sales reports to determine changes in programs or operations required.  Directs preparation of directives to departments outlining policy, program, or operations changes to be implemented.  Promotes the hotel in industry, manufacturing or trade associations.  Ability to understand Guests service needs.  Ability to be well organized, maintain concentration and complete all work assigned.  Ability to focus attention to performance of tasks despite frequent, stressful or unusual interruptions.  Ability to converse calmly with irate Guests, co-workers or supervisors in sometimes tense situations.  Ability to perform job functions with minimal supervision.  Ability to take and give direction.  Ability to work cohesively with co-workers and other departments as part of a team. Ability to build morale and spirit.  Ability to interact with people beyond giving and receiving instructions, particularly in resolving complaints and problems.  Ability to adhere to work schedule and arrive on time in a neat and alert condition and adhere to company dress standards.  Ability to negotiate, prospect, plan, prioritize, and organize.  Ability to read and understand financial statements, forecast business, prepare annual budget and marketing plan. Requirements 7 plus years as a General Manager in a Full Service Hotel (required) with 400+ guest rooms. Hilton Brand Experience Or Major Brand Experience Required. The Hilton Washington Dulles is an equal employment/affirmative action employer. If you need accommodation for any part of the employment process because of a medical condition or disability, please send an e-mail to lisa.pisone@dulleshilton.com or call 703-834-1981 to let us know the nature of your request. Equal Opportunity Employer/Protected Veterans/Individuals with Disabilities The contractor will not discharge or in any other manner discriminate against employees or applicants because they have inquired about, discussed, or disclosed their own pay or the pay of another employee or applicant. However, employees who have access to the compensation information of other employees or applicants as a part of their essential job functions cannot disclose the pay of other employees or applicants to individuals who do not otherwise have access to compensation information, unless the disclosure is (a) in response to a formal complaint or charge, (b) in furtherance of an investigation, proceeding, hearing, or action, including an investigation conducted by the employer, or (c) consistent with the contractors legal duty to furnish information. Requirements Skills Behaviors : Motivations : EducationExperience Licenses & Certifications\\nDirects and coordinates promotion of products and services to develop new markets, increase share of market, and obtain a competitive position in the industry.  Analyzes department budget requests to identify areas in which reductions can be made and allocates operating budget.  Confers with personnel and reviews activity, operating and sales reports to determine changes in programs or operations required.  Directs preparation of directives to departments outlining policy, program, or operations chang'"
      ]
     },
     "execution_count": 125,
     "metadata": {},
     "output_type": "execute_result"
    }
   ],
   "source": [
    "train_df[(~train_df['text'].str.lower().str.contains('airport'))\n",
    "        &(train_df['label']==2)]['text'].sample(1).iloc[0]\n",
    "# it seems airport in class 3 are californian located while class 2 are at other outside of california"
   ]
  },
  {
   "cell_type": "code",
   "execution_count": null,
   "id": "e382fb0c-53c1-42ef-9da6-8e137a0d4f32",
   "metadata": {},
   "outputs": [],
   "source": []
  },
  {
   "cell_type": "code",
   "execution_count": null,
   "id": "4f14ba31-c0b1-4713-a5ea-0a52b82aa8b9",
   "metadata": {},
   "outputs": [],
   "source": []
  }
 ],
 "metadata": {
  "kernelspec": {
   "display_name": "Python 3 (ipykernel)",
   "language": "python",
   "name": "python3"
  },
  "language_info": {
   "codemirror_mode": {
    "name": "ipython",
    "version": 3
   },
   "file_extension": ".py",
   "mimetype": "text/x-python",
   "name": "python",
   "nbconvert_exporter": "python",
   "pygments_lexer": "ipython3",
   "version": "3.8.10"
  }
 },
 "nbformat": 4,
 "nbformat_minor": 5
}
