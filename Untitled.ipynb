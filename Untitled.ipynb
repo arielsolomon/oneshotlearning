{
 "cells": [
  {
   "cell_type": "markdown",
   "id": "e6e27bbd-11b6-44b3-b258-7ceec79c496c",
   "metadata": {},
   "source": [
    "# Overcoming Tower of Bable Using Calibration"
   ]
  },
  {
   "cell_type": "code",
   "execution_count": null,
   "id": "117140d9-a976-4eda-93a6-fa4168e1120a",
   "metadata": {},
   "outputs": [],
   "source": [
    " "
   ]
  }
 ],
 "metadata": {
  "kernelspec": {
   "display_name": "Python 3 (ipykernel)",
   "language": "python",
   "name": "python3"
  },
  "language_info": {
   "codemirror_mode": {
    "name": "ipython",
    "version": 3
   },
   "file_extension": ".py",
   "mimetype": "text/x-python",
   "name": "python",
   "nbconvert_exporter": "python",
   "pygments_lexer": "ipython3",
   "version": "3.8.10"
  }
 },
 "nbformat": 4,
 "nbformat_minor": 5
}
