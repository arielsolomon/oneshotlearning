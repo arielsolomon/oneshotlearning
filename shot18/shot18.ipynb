{
 "cells": [
  {
   "cell_type": "code",
   "execution_count": 64,
   "id": "a6429e76-5144-489d-b6bd-ebce45391c47",
   "metadata": {},
   "outputs": [],
   "source": [
    "import pandas as pd\n",
    "import numpy as np\n",
    "import matplotlib.pyplot as plt"
   ]
  },
  {
   "cell_type": "code",
   "execution_count": 65,
   "id": "8b67de10-e483-44ef-a804-1ab083a71cfb",
   "metadata": {},
   "outputs": [
    {
     "data": {
      "text/plain": [
       "(568293, 10)"
      ]
     },
     "execution_count": 65,
     "metadata": {},
     "output_type": "execute_result"
    }
   ],
   "source": [
    "df = pd.read_csv('crimes.csv')\n",
    "df.shape"
   ]
  },
  {
   "cell_type": "code",
   "execution_count": 66,
   "id": "3e117938-e1e2-4be2-87d8-28486537c7bd",
   "metadata": {},
   "outputs": [
    {
     "data": {
      "text/html": [
       "<div>\n",
       "<style scoped>\n",
       "    .dataframe tbody tr th:only-of-type {\n",
       "        vertical-align: middle;\n",
       "    }\n",
       "\n",
       "    .dataframe tbody tr th {\n",
       "        vertical-align: top;\n",
       "    }\n",
       "\n",
       "    .dataframe thead th {\n",
       "        text-align: right;\n",
       "    }\n",
       "</style>\n",
       "<table border=\"1\" class=\"dataframe\">\n",
       "  <thead>\n",
       "    <tr style=\"text-align: right;\">\n",
       "      <th></th>\n",
       "      <th>dt</th>\n",
       "      <th>region</th>\n",
       "      <th>police_district</th>\n",
       "      <th>police_merhav</th>\n",
       "      <th>police_station</th>\n",
       "      <th>crime_group</th>\n",
       "      <th>crime_type</th>\n",
       "      <th>tikim_sum</th>\n",
       "      <th>social_rank</th>\n",
       "      <th>population</th>\n",
       "    </tr>\n",
       "  </thead>\n",
       "  <tbody>\n",
       "    <tr>\n",
       "      <th>0</th>\n",
       "      <td>2018-01-01</td>\n",
       "      <td>אילת</td>\n",
       "      <td>מחוז דרומי</td>\n",
       "      <td>מרחב אילת דרום</td>\n",
       "      <td>מרחב אילת דרום</td>\n",
       "      <td>NaN</td>\n",
       "      <td>NaN</td>\n",
       "      <td>199</td>\n",
       "      <td>6</td>\n",
       "      <td>52285</td>\n",
       "    </tr>\n",
       "    <tr>\n",
       "      <th>1</th>\n",
       "      <td>2018-04-01</td>\n",
       "      <td>אילת</td>\n",
       "      <td>מחוז דרומי</td>\n",
       "      <td>מרחב אילת דרום</td>\n",
       "      <td>מרחב אילת דרום</td>\n",
       "      <td>NaN</td>\n",
       "      <td>NaN</td>\n",
       "      <td>301</td>\n",
       "      <td>6</td>\n",
       "      <td>52285</td>\n",
       "    </tr>\n",
       "    <tr>\n",
       "      <th>2</th>\n",
       "      <td>2018-07-01</td>\n",
       "      <td>אילת</td>\n",
       "      <td>מחוז דרומי</td>\n",
       "      <td>מרחב אילת דרום</td>\n",
       "      <td>מרחב אילת דרום</td>\n",
       "      <td>NaN</td>\n",
       "      <td>NaN</td>\n",
       "      <td>348</td>\n",
       "      <td>6</td>\n",
       "      <td>52285</td>\n",
       "    </tr>\n",
       "    <tr>\n",
       "      <th>3</th>\n",
       "      <td>2018-10-01</td>\n",
       "      <td>אילת</td>\n",
       "      <td>מחוז דרומי</td>\n",
       "      <td>מרחב אילת דרום</td>\n",
       "      <td>מרחב אילת דרום</td>\n",
       "      <td>NaN</td>\n",
       "      <td>NaN</td>\n",
       "      <td>254</td>\n",
       "      <td>6</td>\n",
       "      <td>52285</td>\n",
       "    </tr>\n",
       "    <tr>\n",
       "      <th>4</th>\n",
       "      <td>2019-01-01</td>\n",
       "      <td>אילת</td>\n",
       "      <td>מחוז דרומי</td>\n",
       "      <td>מרחב אילת דרום</td>\n",
       "      <td>מרחב אילת דרום</td>\n",
       "      <td>NaN</td>\n",
       "      <td>NaN</td>\n",
       "      <td>281</td>\n",
       "      <td>6</td>\n",
       "      <td>52285</td>\n",
       "    </tr>\n",
       "    <tr>\n",
       "      <th>...</th>\n",
       "      <td>...</td>\n",
       "      <td>...</td>\n",
       "      <td>...</td>\n",
       "      <td>...</td>\n",
       "      <td>...</td>\n",
       "      <td>...</td>\n",
       "      <td>...</td>\n",
       "      <td>...</td>\n",
       "      <td>...</td>\n",
       "      <td>...</td>\n",
       "    </tr>\n",
       "    <tr>\n",
       "      <th>568283</th>\n",
       "      <td>2021-10-01</td>\n",
       "      <td>רמת השרון</td>\n",
       "      <td>מחוז תא</td>\n",
       "      <td>מרחב ירקון תא</td>\n",
       "      <td>תחנת תא צפון ירקון</td>\n",
       "      <td>עבירות כלפי הרכוש</td>\n",
       "      <td>גניבה שמוש רכב ללא רשות</td>\n",
       "      <td>1</td>\n",
       "      <td>9</td>\n",
       "      <td>47093</td>\n",
       "    </tr>\n",
       "    <tr>\n",
       "      <th>568284</th>\n",
       "      <td>2021-10-01</td>\n",
       "      <td>רמת השרון</td>\n",
       "      <td>מחוז תא</td>\n",
       "      <td>מרחב ירקון תא</td>\n",
       "      <td>תחנת תא צפון ירקון</td>\n",
       "      <td>עבירות כלפי הרכוש</td>\n",
       "      <td>גניבת אופניים</td>\n",
       "      <td>1</td>\n",
       "      <td>9</td>\n",
       "      <td>47093</td>\n",
       "    </tr>\n",
       "    <tr>\n",
       "      <th>568285</th>\n",
       "      <td>2021-10-01</td>\n",
       "      <td>רמת השרון</td>\n",
       "      <td>מחוז תא</td>\n",
       "      <td>מרחב ירקון תא</td>\n",
       "      <td>תחנת תא צפון ירקון</td>\n",
       "      <td>עבירות כלפי הרכוש</td>\n",
       "      <td>גרימת נזק לרכוש בזדון</td>\n",
       "      <td>1</td>\n",
       "      <td>9</td>\n",
       "      <td>47093</td>\n",
       "    </tr>\n",
       "    <tr>\n",
       "      <th>568286</th>\n",
       "      <td>2021-10-01</td>\n",
       "      <td>רמת השרון</td>\n",
       "      <td>מחוז תא</td>\n",
       "      <td>מרחב ירקון תא</td>\n",
       "      <td>תחנת תא צפון ירקון</td>\n",
       "      <td>עבירות כלפי הרכוש</td>\n",
       "      <td>החזקת כלי פריצה</td>\n",
       "      <td>1</td>\n",
       "      <td>9</td>\n",
       "      <td>47093</td>\n",
       "    </tr>\n",
       "    <tr>\n",
       "      <th>568287</th>\n",
       "      <td>2021-10-01</td>\n",
       "      <td>רמת השרון</td>\n",
       "      <td>מחוז תא</td>\n",
       "      <td>מרחב ירקון תא</td>\n",
       "      <td>תחנת תא צפון ירקון</td>\n",
       "      <td>עבירות כלפי הרכוש</td>\n",
       "      <td>החזקת רכוש גנוב</td>\n",
       "      <td>1</td>\n",
       "      <td>9</td>\n",
       "      <td>47093</td>\n",
       "    </tr>\n",
       "  </tbody>\n",
       "</table>\n",
       "<p>568288 rows × 10 columns</p>\n",
       "</div>"
      ],
      "text/plain": [
       "                dt     region police_district   police_merhav  \\\n",
       "0       2018-01-01       אילת      מחוז דרומי  מרחב אילת דרום   \n",
       "1       2018-04-01       אילת      מחוז דרומי  מרחב אילת דרום   \n",
       "2       2018-07-01       אילת      מחוז דרומי  מרחב אילת דרום   \n",
       "3       2018-10-01       אילת      מחוז דרומי  מרחב אילת דרום   \n",
       "4       2019-01-01       אילת      מחוז דרומי  מרחב אילת דרום   \n",
       "...            ...        ...             ...             ...   \n",
       "568283  2021-10-01  רמת השרון         מחוז תא   מרחב ירקון תא   \n",
       "568284  2021-10-01  רמת השרון         מחוז תא   מרחב ירקון תא   \n",
       "568285  2021-10-01  רמת השרון         מחוז תא   מרחב ירקון תא   \n",
       "568286  2021-10-01  רמת השרון         מחוז תא   מרחב ירקון תא   \n",
       "568287  2021-10-01  רמת השרון         מחוז תא   מרחב ירקון תא   \n",
       "\n",
       "            police_station        crime_group               crime_type  \\\n",
       "0           מרחב אילת דרום                NaN                      NaN   \n",
       "1           מרחב אילת דרום                NaN                      NaN   \n",
       "2           מרחב אילת דרום                NaN                      NaN   \n",
       "3           מרחב אילת דרום                NaN                      NaN   \n",
       "4           מרחב אילת דרום                NaN                      NaN   \n",
       "...                    ...                ...                      ...   \n",
       "568283  תחנת תא צפון ירקון  עבירות כלפי הרכוש  גניבה שמוש רכב ללא רשות   \n",
       "568284  תחנת תא צפון ירקון  עבירות כלפי הרכוש            גניבת אופניים   \n",
       "568285  תחנת תא צפון ירקון  עבירות כלפי הרכוש    גרימת נזק לרכוש בזדון   \n",
       "568286  תחנת תא צפון ירקון  עבירות כלפי הרכוש          החזקת כלי פריצה   \n",
       "568287  תחנת תא צפון ירקון  עבירות כלפי הרכוש          החזקת רכוש גנוב   \n",
       "\n",
       "        tikim_sum  social_rank  population  \n",
       "0             199            6       52285  \n",
       "1             301            6       52285  \n",
       "2             348            6       52285  \n",
       "3             254            6       52285  \n",
       "4             281            6       52285  \n",
       "...           ...          ...         ...  \n",
       "568283          1            9       47093  \n",
       "568284          1            9       47093  \n",
       "568285          1            9       47093  \n",
       "568286          1            9       47093  \n",
       "568287          1            9       47093  \n",
       "\n",
       "[568288 rows x 10 columns]"
      ]
     },
     "execution_count": 66,
     "metadata": {},
     "output_type": "execute_result"
    }
   ],
   "source": [
    "df.head(-5)"
   ]
  },
  {
   "cell_type": "code",
   "execution_count": 126,
   "id": "1f677b33-c77f-4a5b-847b-2f628bd96040",
   "metadata": {},
   "outputs": [
    {
     "data": {
      "text/plain": [
       "Index(['dt', 'region', 'police_district', 'police_merhav', 'police_station',\n",
       "       'crime_group', 'crime_type', 'tikim_sum', 'social_rank', 'population'],\n",
       "      dtype='object')"
      ]
     },
     "execution_count": 126,
     "metadata": {},
     "output_type": "execute_result"
    }
   ],
   "source": [
    "df.columns"
   ]
  },
  {
   "cell_type": "code",
   "execution_count": 67,
   "id": "fd436375-97ae-427d-856c-da5feaca48ef",
   "metadata": {},
   "outputs": [
    {
     "name": "stdout",
     "output_type": "stream",
     "text": [
      "num of regions 163, num of districts: 7 and range of social ranking: 0 - 9\n"
     ]
    }
   ],
   "source": [
    "# מספר הערים בסקר, מספר האזורים ודרוג סוציאלי \n",
    "df['region'].nunique(), df['police_district'].nunique(), df['social_rank'].nunique()\n",
    "print(f'num of regions {df[\"region\"].nunique()}, num of districts: {df[\"police_district\"].nunique()} and range of social ranking: 0 - {df[\"social_rank\"].nunique()}')"
   ]
  },
  {
   "cell_type": "code",
   "execution_count": 68,
   "id": "58f1ca89-d99b-41a9-9843-b04a95c42832",
   "metadata": {},
   "outputs": [
    {
     "data": {
      "text/plain": [
       "('2018-01-01', '2023-01-01')"
      ]
     },
     "execution_count": 68,
     "metadata": {},
     "output_type": "execute_result"
    }
   ],
   "source": [
    "# range of inspection\n",
    "(df['dt'].min(), df['dt'].max())"
   ]
  },
  {
   "cell_type": "code",
   "execution_count": 69,
   "id": "ade3217a-42ad-4813-9bc1-d8e73cee860c",
   "metadata": {},
   "outputs": [],
   "source": [
    "from joypy import joyplot"
   ]
  },
  {
   "cell_type": "code",
   "execution_count": 140,
   "id": "7d6b2e6c-3267-4608-ba3a-334bdcaf685e",
   "metadata": {},
   "outputs": [],
   "source": [
    "# first: create object to plot, in this case it is normalized number of cases per region and social rank\n",
    "to_plot = (df.groupby(['region', 'social_rank'], as_index=False)\n",
    "           .apply(lambda gp: gp['tikim_sum'].sum() / gp['population'].max())).rename(columns={None: 'tikim_norm'})"
   ]
  },
  {
   "cell_type": "code",
   "execution_count": 141,
   "id": "02528798-e5cc-495e-a13f-c14006f0e6a7",
   "metadata": {},
   "outputs": [
    {
     "data": {
      "text/html": [
       "<div>\n",
       "<style scoped>\n",
       "    .dataframe tbody tr th:only-of-type {\n",
       "        vertical-align: middle;\n",
       "    }\n",
       "\n",
       "    .dataframe tbody tr th {\n",
       "        vertical-align: top;\n",
       "    }\n",
       "\n",
       "    .dataframe thead th {\n",
       "        text-align: right;\n",
       "    }\n",
       "</style>\n",
       "<table border=\"1\" class=\"dataframe\">\n",
       "  <thead>\n",
       "    <tr style=\"text-align: right;\">\n",
       "      <th></th>\n",
       "      <th>region</th>\n",
       "      <th>social_rank</th>\n",
       "      <th>tikim_norm</th>\n",
       "    </tr>\n",
       "  </thead>\n",
       "  <tbody>\n",
       "    <tr>\n",
       "      <th>0</th>\n",
       "      <td>אבן יהודה</td>\n",
       "      <td>9</td>\n",
       "      <td>0.135062</td>\n",
       "    </tr>\n",
       "    <tr>\n",
       "      <th>1</th>\n",
       "      <td>אופקים</td>\n",
       "      <td>3</td>\n",
       "      <td>0.244439</td>\n",
       "    </tr>\n",
       "    <tr>\n",
       "      <th>2</th>\n",
       "      <td>אור יהודה</td>\n",
       "      <td>5</td>\n",
       "      <td>0.236464</td>\n",
       "    </tr>\n",
       "    <tr>\n",
       "      <th>3</th>\n",
       "      <td>אור עקיבא</td>\n",
       "      <td>5</td>\n",
       "      <td>0.264549</td>\n",
       "    </tr>\n",
       "    <tr>\n",
       "      <th>4</th>\n",
       "      <td>אזור</td>\n",
       "      <td>7</td>\n",
       "      <td>0.182343</td>\n",
       "    </tr>\n",
       "    <tr>\n",
       "      <th>...</th>\n",
       "      <td>...</td>\n",
       "      <td>...</td>\n",
       "      <td>...</td>\n",
       "    </tr>\n",
       "    <tr>\n",
       "      <th>123</th>\n",
       "      <td>שגב שלום</td>\n",
       "      <td>1</td>\n",
       "      <td>0.348939</td>\n",
       "    </tr>\n",
       "    <tr>\n",
       "      <th>124</th>\n",
       "      <td>שדרות</td>\n",
       "      <td>5</td>\n",
       "      <td>0.361670</td>\n",
       "    </tr>\n",
       "    <tr>\n",
       "      <th>125</th>\n",
       "      <td>שוהם</td>\n",
       "      <td>9</td>\n",
       "      <td>0.079259</td>\n",
       "    </tr>\n",
       "    <tr>\n",
       "      <th>126</th>\n",
       "      <td>תל אביב יפו</td>\n",
       "      <td>8</td>\n",
       "      <td>0.426606</td>\n",
       "    </tr>\n",
       "    <tr>\n",
       "      <th>127</th>\n",
       "      <td>תל מונד</td>\n",
       "      <td>9</td>\n",
       "      <td>0.141966</td>\n",
       "    </tr>\n",
       "  </tbody>\n",
       "</table>\n",
       "<p>128 rows × 3 columns</p>\n",
       "</div>"
      ],
      "text/plain": [
       "          region  social_rank  tikim_norm\n",
       "0      אבן יהודה            9    0.135062\n",
       "1         אופקים            3    0.244439\n",
       "2      אור יהודה            5    0.236464\n",
       "3      אור עקיבא            5    0.264549\n",
       "4           אזור            7    0.182343\n",
       "..           ...          ...         ...\n",
       "123     שגב שלום            1    0.348939\n",
       "124        שדרות            5    0.361670\n",
       "125         שוהם            9    0.079259\n",
       "126  תל אביב יפו            8    0.426606\n",
       "127      תל מונד            9    0.141966\n",
       "\n",
       "[128 rows x 3 columns]"
      ]
     },
     "execution_count": 141,
     "metadata": {},
     "output_type": "execute_result"
    }
   ],
   "source": [
    "to_plot"
   ]
  },
  {
   "cell_type": "code",
   "execution_count": 72,
   "id": "b6347abf-fd53-4b3f-b164-3e1f4031acd2",
   "metadata": {},
   "outputs": [
    {
     "data": {
      "image/png": "[encoded data removed]",
      "text/plain": [
       "<Figure size 640x480 with 10 Axes>"
      ]
     },
     "metadata": {},
     "output_type": "display_data"
    }
   ],
   "source": [
    "joyplot(to_plot, by='social_rank',column='tikim_normal');"
   ]
  },
  {
   "cell_type": "code",
   "execution_count": 73,
   "id": "8ec8c404-146c-4cec-ba6c-2ceb954bbfb1",
   "metadata": {},
   "outputs": [
    {
     "data": {
      "text/plain": [
       "' Data do not behave as though: as higher the social rank, the lower the crime cases per capita\\nThe primery suspect: NaN that we saw in df.head, need to clearn the dataset'"
      ]
     },
     "execution_count": 73,
     "metadata": {},
     "output_type": "execute_result"
    }
   ],
   "source": [
    "\"\"\" Data do not behave as though: as higher the social rank, the lower the crime cases per capita\n",
    "The primery suspect: NaN that we saw in df.head, need to clearn the dataset\"\"\""
   ]
  },
  {
   "cell_type": "code",
   "execution_count": 74,
   "id": "439381a2-d99e-47c0-bb80-08fc0a0f1193",
   "metadata": {},
   "outputs": [
    {
     "data": {
      "text/plain": [
       "dt                 0.00000\n",
       "region             0.00000\n",
       "police_district    0.00000\n",
       "police_merhav      0.00000\n",
       "police_station     0.00000\n",
       "crime_group        0.00691\n",
       "crime_type         0.00691\n",
       "tikim_sum          0.00000\n",
       "social_rank        0.00000\n",
       "population         0.00000\n",
       "dtype: float64"
      ]
     },
     "execution_count": 74,
     "metadata": {},
     "output_type": "execute_result"
    }
   ],
   "source": [
    "df.isna().mean()"
   ]
  },
  {
   "cell_type": "code",
   "execution_count": 75,
   "id": "cf8f1e26-eb42-43ee-b7e4-b86e0b8a9d20",
   "metadata": {},
   "outputs": [
    {
     "data": {
      "text/plain": [
       "' we see that under crime_group and crime_type the report is not full and detailed (NaN)'"
      ]
     },
     "execution_count": 75,
     "metadata": {},
     "output_type": "execute_result"
    }
   ],
   "source": [
    "\"\"\" we see that under crime_group and crime_type the report is not full and detailed (NaN)\"\"\""
   ]
  },
  {
   "cell_type": "code",
   "execution_count": 76,
   "id": "5699c238-bab0-46b1-9429-7c5efdf70505",
   "metadata": {},
   "outputs": [
    {
     "data": {
      "text/plain": [
       "' Maybe even something worst is correlated in low social rank cities that too much activity/crime leads to sloppy reports'"
      ]
     },
     "execution_count": 76,
     "metadata": {},
     "output_type": "execute_result"
    }
   ],
   "source": [
    "\"\"\" Maybe even something worst is correlated in low social rank cities that too much activity/crime leads to sloppy reports\"\"\""
   ]
  },
  {
   "cell_type": "code",
   "execution_count": 77,
   "id": "2e20dd25-6f7d-4b72-ab55-45233d774973",
   "metadata": {},
   "outputs": [
    {
     "data": {
      "text/plain": [
       "True"
      ]
     },
     "execution_count": 77,
     "metadata": {},
     "output_type": "execute_result"
    }
   ],
   "source": [
    "# is crime type and crime group exactly relate in missing reports?\n",
    "(df['crime_type'].isna() == df['crime_group'].isna()).all()\n",
    "# Yes"
   ]
  },
  {
   "cell_type": "code",
   "execution_count": 78,
   "id": "804af6a3-7c36-45aa-b86a-5f9c1e4bfa0a",
   "metadata": {},
   "outputs": [
    {
     "data": {
      "text/plain": [
       "<Axes: xlabel='norm cases', ylabel='Frequency'>"
      ]
     },
     "execution_count": 78,
     "metadata": {},
     "output_type": "execute_result"
    },
    {
     "data": {
      "image/png": "[encoded data removed]",
      "text/plain": [
       "<Figure size 640x480 with 1 Axes>"
      ]
     },
     "metadata": {},
     "output_type": "display_data"
    }
   ],
   "source": [
    "# Are there cities that specifically mess up the data?\n",
    "to_plot = df.groupby('region').apply(lambda gp: gp['crime_type'].isna().mean())\n",
    "to_plot.plot.hist(bins=100,xlabel='norm cases')\n",
    "# we see that there are several problematic cities in reports. May be agressivly delete them will improve our hypothesis"
   ]
  },
  {
   "cell_type": "code",
   "execution_count": 79,
   "id": "08566ccc-3e9a-4d59-8759-9bba4605add5",
   "metadata": {},
   "outputs": [
    {
     "data": {
      "text/plain": [
       "<Axes: ylabel='Frequency'>"
      ]
     },
     "execution_count": 79,
     "metadata": {},
     "output_type": "execute_result"
    },
    {
     "data": {
      "image/png": "[encoded data removed]",
      "text/plain": [
       "<Figure size 640x480 with 1 Axes>"
      ]
     },
     "metadata": {},
     "output_type": "display_data"
    }
   ],
   "source": [
    "# We sum up the cases per cities ('region') that crime type is NaN from total cases (tikim)\n",
    "to_plot = df.groupby('region').apply(lambda gp: gp[gp['crime_type'].isna()]['tikim_sum'].sum() / gp['tikim_sum'].sum())\n",
    "to_plot.plot.hist(bins=100)"
   ]
  },
  {
   "cell_type": "code",
   "execution_count": 80,
   "id": "f6b78100-0b6e-4d85-b42e-dbec82d1935c",
   "metadata": {},
   "outputs": [],
   "source": [
    "#It is obviouse that there are some cities that are outliers and contribute to bad reports\n",
    "# we will delete them and look at the data after deleting them"
   ]
  },
  {
   "cell_type": "code",
   "execution_count": 81,
   "id": "b7be181d-c330-4121-9ab0-f7d52b027028",
   "metadata": {},
   "outputs": [],
   "source": [
    "df = df.groupby('region').filter(lambda gp: gp[gp['crime_type'].isna()]['tikim_sum'].sum() /\n",
    "                                 gp['tikim_sum'].sum()< 0.5)"
   ]
  },
  {
   "cell_type": "code",
   "execution_count": 82,
   "id": "b1a3a7ab-f6e1-4bc1-8792-9ee6786ef713",
   "metadata": {},
   "outputs": [
    {
     "data": {
      "text/html": [
       "<div>\n",
       "<style scoped>\n",
       "    .dataframe tbody tr th:only-of-type {\n",
       "        vertical-align: middle;\n",
       "    }\n",
       "\n",
       "    .dataframe tbody tr th {\n",
       "        vertical-align: top;\n",
       "    }\n",
       "\n",
       "    .dataframe thead th {\n",
       "        text-align: right;\n",
       "    }\n",
       "</style>\n",
       "<table border=\"1\" class=\"dataframe\">\n",
       "  <thead>\n",
       "    <tr style=\"text-align: right;\">\n",
       "      <th></th>\n",
       "      <th>region</th>\n",
       "      <th>social_rank</th>\n",
       "      <th>tikim_normal</th>\n",
       "    </tr>\n",
       "  </thead>\n",
       "  <tbody>\n",
       "    <tr>\n",
       "      <th>0</th>\n",
       "      <td>אבן יהודה</td>\n",
       "      <td>9</td>\n",
       "      <td>0.135062</td>\n",
       "    </tr>\n",
       "    <tr>\n",
       "      <th>1</th>\n",
       "      <td>אופקים</td>\n",
       "      <td>3</td>\n",
       "      <td>0.244439</td>\n",
       "    </tr>\n",
       "    <tr>\n",
       "      <th>2</th>\n",
       "      <td>אור יהודה</td>\n",
       "      <td>5</td>\n",
       "      <td>0.236464</td>\n",
       "    </tr>\n",
       "    <tr>\n",
       "      <th>3</th>\n",
       "      <td>אור עקיבא</td>\n",
       "      <td>5</td>\n",
       "      <td>0.264549</td>\n",
       "    </tr>\n",
       "    <tr>\n",
       "      <th>4</th>\n",
       "      <td>אזור</td>\n",
       "      <td>7</td>\n",
       "      <td>0.182343</td>\n",
       "    </tr>\n",
       "    <tr>\n",
       "      <th>...</th>\n",
       "      <td>...</td>\n",
       "      <td>...</td>\n",
       "      <td>...</td>\n",
       "    </tr>\n",
       "    <tr>\n",
       "      <th>123</th>\n",
       "      <td>שגב שלום</td>\n",
       "      <td>1</td>\n",
       "      <td>0.348939</td>\n",
       "    </tr>\n",
       "    <tr>\n",
       "      <th>124</th>\n",
       "      <td>שדרות</td>\n",
       "      <td>5</td>\n",
       "      <td>0.361670</td>\n",
       "    </tr>\n",
       "    <tr>\n",
       "      <th>125</th>\n",
       "      <td>שוהם</td>\n",
       "      <td>9</td>\n",
       "      <td>0.079259</td>\n",
       "    </tr>\n",
       "    <tr>\n",
       "      <th>126</th>\n",
       "      <td>תל אביב יפו</td>\n",
       "      <td>8</td>\n",
       "      <td>0.426606</td>\n",
       "    </tr>\n",
       "    <tr>\n",
       "      <th>127</th>\n",
       "      <td>תל מונד</td>\n",
       "      <td>9</td>\n",
       "      <td>0.141966</td>\n",
       "    </tr>\n",
       "  </tbody>\n",
       "</table>\n",
       "<p>128 rows × 3 columns</p>\n",
       "</div>"
      ],
      "text/plain": [
       "          region  social_rank  tikim_normal\n",
       "0      אבן יהודה            9      0.135062\n",
       "1         אופקים            3      0.244439\n",
       "2      אור יהודה            5      0.236464\n",
       "3      אור עקיבא            5      0.264549\n",
       "4           אזור            7      0.182343\n",
       "..           ...          ...           ...\n",
       "123     שגב שלום            1      0.348939\n",
       "124        שדרות            5      0.361670\n",
       "125         שוהם            9      0.079259\n",
       "126  תל אביב יפו            8      0.426606\n",
       "127      תל מונד            9      0.141966\n",
       "\n",
       "[128 rows x 3 columns]"
      ]
     },
     "execution_count": 82,
     "metadata": {},
     "output_type": "execute_result"
    }
   ],
   "source": [
    "to_plot = (df.groupby(['region', 'social_rank'], as_index=False)\n",
    "           .apply(lambda gp: gp['tikim_sum'].sum() / gp['population'].max())).rename(columns={None: 'tikim_normal'})\n",
    "to_plot"
   ]
  },
  {
   "cell_type": "code",
   "execution_count": 83,
   "id": "7abc6d17-be89-4473-9031-7eecdeb3e457",
   "metadata": {},
   "outputs": [
    {
     "data": {
      "image/png": "[encoded data removed]",
      "text/plain": [
       "<Figure size 640x480 with 10 Axes>"
      ]
     },
     "metadata": {},
     "output_type": "display_data"
    }
   ],
   "source": [
    "fig, axes = joyplot(to_plot, by='social_rank',  column='tikim_normal');\n",
    "plt.xlabel('# of normalized cases')\n",
    "axes[0].set_ylabel('Social Rank')\n",
    "\n",
    "# Show the plot\n",
    "plt.show()"
   ]
  },
  {
   "cell_type": "code",
   "execution_count": 84,
   "id": "d4fdab0d-344d-4a35-b0bc-acbc1ac5b4bf",
   "metadata": {},
   "outputs": [
    {
     "data": {
      "text/html": [
       "<div>\n",
       "<style scoped>\n",
       "    .dataframe tbody tr th:only-of-type {\n",
       "        vertical-align: middle;\n",
       "    }\n",
       "\n",
       "    .dataframe tbody tr th {\n",
       "        vertical-align: top;\n",
       "    }\n",
       "\n",
       "    .dataframe thead th {\n",
       "        text-align: right;\n",
       "    }\n",
       "</style>\n",
       "<table border=\"1\" class=\"dataframe\">\n",
       "  <thead>\n",
       "    <tr style=\"text-align: right;\">\n",
       "      <th></th>\n",
       "      <th>region</th>\n",
       "      <th>social_rank</th>\n",
       "      <th>tikim_normal</th>\n",
       "    </tr>\n",
       "  </thead>\n",
       "  <tbody>\n",
       "    <tr>\n",
       "      <th>53</th>\n",
       "      <td>מודיעין עילית</td>\n",
       "      <td>1</td>\n",
       "      <td>0.046653</td>\n",
       "    </tr>\n",
       "    <tr>\n",
       "      <th>118</th>\n",
       "      <td>רכסים</td>\n",
       "      <td>2</td>\n",
       "      <td>0.078042</td>\n",
       "    </tr>\n",
       "    <tr>\n",
       "      <th>15</th>\n",
       "      <td>ביתר עילית</td>\n",
       "      <td>1</td>\n",
       "      <td>0.083757</td>\n",
       "    </tr>\n",
       "    <tr>\n",
       "      <th>6</th>\n",
       "      <td>אלעד</td>\n",
       "      <td>2</td>\n",
       "      <td>0.084147</td>\n",
       "    </tr>\n",
       "    <tr>\n",
       "      <th>16</th>\n",
       "      <td>בני ברק</td>\n",
       "      <td>2</td>\n",
       "      <td>0.098156</td>\n",
       "    </tr>\n",
       "    <tr>\n",
       "      <th>51</th>\n",
       "      <td>מג'דל שמס</td>\n",
       "      <td>3</td>\n",
       "      <td>0.121299</td>\n",
       "    </tr>\n",
       "    <tr>\n",
       "      <th>43</th>\n",
       "      <td>כסיפה</td>\n",
       "      <td>1</td>\n",
       "      <td>0.136968</td>\n",
       "    </tr>\n",
       "    <tr>\n",
       "      <th>14</th>\n",
       "      <td>בית שמש</td>\n",
       "      <td>2</td>\n",
       "      <td>0.137902</td>\n",
       "    </tr>\n",
       "    <tr>\n",
       "      <th>42</th>\n",
       "      <td>כאבול</td>\n",
       "      <td>3</td>\n",
       "      <td>0.158709</td>\n",
       "    </tr>\n",
       "    <tr>\n",
       "      <th>33</th>\n",
       "      <td>חורה</td>\n",
       "      <td>1</td>\n",
       "      <td>0.181358</td>\n",
       "    </tr>\n",
       "    <tr>\n",
       "      <th>103</th>\n",
       "      <td>צפת</td>\n",
       "      <td>2</td>\n",
       "      <td>0.196084</td>\n",
       "    </tr>\n",
       "    <tr>\n",
       "      <th>41</th>\n",
       "      <td>ירושלים</td>\n",
       "      <td>2</td>\n",
       "      <td>0.206336</td>\n",
       "    </tr>\n",
       "    <tr>\n",
       "      <th>49</th>\n",
       "      <td>לקיה</td>\n",
       "      <td>1</td>\n",
       "      <td>0.214367</td>\n",
       "    </tr>\n",
       "    <tr>\n",
       "      <th>54</th>\n",
       "      <td>מועצה אזורית אל קסום</td>\n",
       "      <td>1</td>\n",
       "      <td>0.216478</td>\n",
       "    </tr>\n",
       "    <tr>\n",
       "      <th>81</th>\n",
       "      <td>מועצה אזורית נווה מדבר</td>\n",
       "      <td>1</td>\n",
       "      <td>0.218679</td>\n",
       "    </tr>\n",
       "    <tr>\n",
       "      <th>96</th>\n",
       "      <td>נתיבות</td>\n",
       "      <td>3</td>\n",
       "      <td>0.228491</td>\n",
       "    </tr>\n",
       "    <tr>\n",
       "      <th>1</th>\n",
       "      <td>אופקים</td>\n",
       "      <td>3</td>\n",
       "      <td>0.244439</td>\n",
       "    </tr>\n",
       "    <tr>\n",
       "      <th>18</th>\n",
       "      <td>ג'לג'וליה</td>\n",
       "      <td>3</td>\n",
       "      <td>0.290139</td>\n",
       "    </tr>\n",
       "    <tr>\n",
       "      <th>100</th>\n",
       "      <td>ערד</td>\n",
       "      <td>3</td>\n",
       "      <td>0.303643</td>\n",
       "    </tr>\n",
       "    <tr>\n",
       "      <th>123</th>\n",
       "      <td>שגב שלום</td>\n",
       "      <td>1</td>\n",
       "      <td>0.348939</td>\n",
       "    </tr>\n",
       "  </tbody>\n",
       "</table>\n",
       "</div>"
      ],
      "text/plain": [
       "                     region  social_rank  tikim_normal\n",
       "53            מודיעין עילית            1      0.046653\n",
       "118                   רכסים            2      0.078042\n",
       "15               ביתר עילית            1      0.083757\n",
       "6                      אלעד            2      0.084147\n",
       "16                  בני ברק            2      0.098156\n",
       "51                מג'דל שמס            3      0.121299\n",
       "43                    כסיפה            1      0.136968\n",
       "14                  בית שמש            2      0.137902\n",
       "42                    כאבול            3      0.158709\n",
       "33                     חורה            1      0.181358\n",
       "103                     צפת            2      0.196084\n",
       "41                  ירושלים            2      0.206336\n",
       "49                     לקיה            1      0.214367\n",
       "54     מועצה אזורית אל קסום            1      0.216478\n",
       "81   מועצה אזורית נווה מדבר            1      0.218679\n",
       "96                   נתיבות            3      0.228491\n",
       "1                    אופקים            3      0.244439\n",
       "18                ג'לג'וליה            3      0.290139\n",
       "100                     ערד            3      0.303643\n",
       "123                שגב שלום            1      0.348939"
      ]
     },
     "execution_count": 84,
     "metadata": {},
     "output_type": "execute_result"
    }
   ],
   "source": [
    "# not specific fix\n",
    "# try to filter it according to the 3 low social rank and look and num of cases/capita\n",
    "to_plot[to_plot['social_rank'] <=3].sort_values('tikim_normal')"
   ]
  },
  {
   "cell_type": "code",
   "execution_count": 85,
   "id": "44401993-48de-4127-8ba8-2c0ab39a98e5",
   "metadata": {},
   "outputs": [],
   "source": [
    "#May be we need to change hypothesis since say about 5 points (under 0.1) will not change things radically\n",
    "# we need to look at sub fields in each region and anlyze differently to find other correlations\n",
    "# lets watch different data segment, פילוח שונה בניואנסים\n",
    "# lets look on crime types"
   ]
  },
  {
   "cell_type": "code",
   "execution_count": 99,
   "id": "4723cbf1-1284-4c38-8643-7d4296369cda",
   "metadata": {},
   "outputs": [
    {
     "data": {
      "text/html": [
       "<div>\n",
       "<style scoped>\n",
       "    .dataframe tbody tr th:only-of-type {\n",
       "        vertical-align: middle;\n",
       "    }\n",
       "\n",
       "    .dataframe tbody tr th {\n",
       "        vertical-align: top;\n",
       "    }\n",
       "\n",
       "    .dataframe thead th {\n",
       "        text-align: right;\n",
       "    }\n",
       "</style>\n",
       "<table border=\"1\" class=\"dataframe\">\n",
       "  <thead>\n",
       "    <tr style=\"text-align: right;\">\n",
       "      <th></th>\n",
       "      <th>region</th>\n",
       "      <th>crime_type</th>\n",
       "      <th>social_rank</th>\n",
       "      <th>tikim_norm</th>\n",
       "    </tr>\n",
       "  </thead>\n",
       "  <tbody>\n",
       "    <tr>\n",
       "      <th>0</th>\n",
       "      <td>אבן יהודה</td>\n",
       "      <td>(תקיפה (למעט עובדי ציבור</td>\n",
       "      <td>9</td>\n",
       "      <td>0.012239</td>\n",
       "    </tr>\n",
       "    <tr>\n",
       "      <th>1</th>\n",
       "      <td>אבן יהודה</td>\n",
       "      <td>איומים</td>\n",
       "      <td>9</td>\n",
       "      <td>0.018358</td>\n",
       "    </tr>\n",
       "    <tr>\n",
       "      <th>2</th>\n",
       "      <td>אבן יהודה</td>\n",
       "      <td>גידול,ייצור והפקת-סמים</td>\n",
       "      <td>9</td>\n",
       "      <td>0.000364</td>\n",
       "    </tr>\n",
       "    <tr>\n",
       "      <th>3</th>\n",
       "      <td>אבן יהודה</td>\n",
       "      <td>גניבה מתוך רכב</td>\n",
       "      <td>9</td>\n",
       "      <td>0.004517</td>\n",
       "    </tr>\n",
       "    <tr>\n",
       "      <th>4</th>\n",
       "      <td>אבן יהודה</td>\n",
       "      <td>גניבה ע\"י עובדים וסוכנים</td>\n",
       "      <td>9</td>\n",
       "      <td>0.000073</td>\n",
       "    </tr>\n",
       "    <tr>\n",
       "      <th>...</th>\n",
       "      <td>...</td>\n",
       "      <td>...</td>\n",
       "      <td>...</td>\n",
       "      <td>...</td>\n",
       "    </tr>\n",
       "    <tr>\n",
       "      <th>9743</th>\n",
       "      <td>תל מונד</td>\n",
       "      <td>שוחד</td>\n",
       "      <td>9</td>\n",
       "      <td>0.000076</td>\n",
       "    </tr>\n",
       "    <tr>\n",
       "      <th>9744</th>\n",
       "      <td>תל מונד</td>\n",
       "      <td>שמוש בסמים מסוכנים</td>\n",
       "      <td>9</td>\n",
       "      <td>0.005250</td>\n",
       "    </tr>\n",
       "    <tr>\n",
       "      <th>9745</th>\n",
       "      <td>תל מונד</td>\n",
       "      <td>תקיפה לשם גניבה</td>\n",
       "      <td>9</td>\n",
       "      <td>0.000076</td>\n",
       "    </tr>\n",
       "    <tr>\n",
       "      <th>9746</th>\n",
       "      <td>תל מונד</td>\n",
       "      <td>תקיפת והכשלת שוטר</td>\n",
       "      <td>9</td>\n",
       "      <td>0.001826</td>\n",
       "    </tr>\n",
       "    <tr>\n",
       "      <th>9747</th>\n",
       "      <td>תל מונד</td>\n",
       "      <td>תקיפת עובדי צבור בתפקיד</td>\n",
       "      <td>9</td>\n",
       "      <td>0.001522</td>\n",
       "    </tr>\n",
       "  </tbody>\n",
       "</table>\n",
       "<p>9748 rows × 4 columns</p>\n",
       "</div>"
      ],
      "text/plain": [
       "         region                crime_type  social_rank  tikim_norm\n",
       "0     אבן יהודה  (תקיפה (למעט עובדי ציבור            9    0.012239\n",
       "1     אבן יהודה                    איומים            9    0.018358\n",
       "2     אבן יהודה    גידול,ייצור והפקת-סמים            9    0.000364\n",
       "3     אבן יהודה            גניבה מתוך רכב            9    0.004517\n",
       "4     אבן יהודה  גניבה ע\"י עובדים וסוכנים            9    0.000073\n",
       "...         ...                       ...          ...         ...\n",
       "9743    תל מונד                      שוחד            9    0.000076\n",
       "9744    תל מונד        שמוש בסמים מסוכנים            9    0.005250\n",
       "9745    תל מונד           תקיפה לשם גניבה            9    0.000076\n",
       "9746    תל מונד         תקיפת והכשלת שוטר            9    0.001826\n",
       "9747    תל מונד   תקיפת עובדי צבור בתפקיד            9    0.001522\n",
       "\n",
       "[9748 rows x 4 columns]"
      ]
     },
     "execution_count": 99,
     "metadata": {},
     "output_type": "execute_result"
    }
   ],
   "source": [
    "# we call it df_train since we will do a type of training\n",
    "df_to_train = (df.groupby(['region', 'crime_type','social_rank'], as_index=False)\n",
    "           .apply(lambda gp: gp['tikim_sum'].sum() / gp['population'].max())).rename(columns={None: 'tikim_norm'})\n",
    "df_to_train"
   ]
  },
  {
   "cell_type": "code",
   "execution_count": 114,
   "id": "2a7f4b1d-6528-4de7-b2d7-22a2b729ab58",
   "metadata": {},
   "outputs": [],
   "source": [
    "# lets examine, is there a correlation to social rank? \n",
    "# we have to bear in mind that social_rank is ordinal not numerical, thus spearman correlation will \n",
    "# fit to do ordinal correlation\n",
    "from scipy.stats import spearmanr\n",
    "\n",
    "ans = []\n",
    "\n",
    "for crime in df_to_train['crime_type'].unique():\n",
    "    df_crime = df_to_train[df_to_train['crime_type'] == crime]\n",
    "    if len(df_crime)<10: continue\n",
    "    spearman, pval = spearmanr(df_crime['social_rank'], df_crime['tikim_norm'])\n",
    "    ans.append({'crime_type': crime, \n",
    "               'spearman': spearman,\n",
    "               'pval': pval})"
   ]
  },
  {
   "cell_type": "code",
   "execution_count": 132,
   "id": "7b3c9605-1b58-471f-a73d-7db08f7d1e8b",
   "metadata": {},
   "outputs": [
    {
     "data": {
      "text/html": [
       "<div>\n",
       "<style scoped>\n",
       "    .dataframe tbody tr th:only-of-type {\n",
       "        vertical-align: middle;\n",
       "    }\n",
       "\n",
       "    .dataframe tbody tr th {\n",
       "        vertical-align: top;\n",
       "    }\n",
       "\n",
       "    .dataframe thead th {\n",
       "        text-align: right;\n",
       "    }\n",
       "</style>\n",
       "<table border=\"1\" class=\"dataframe\">\n",
       "  <thead>\n",
       "    <tr style=\"text-align: right;\">\n",
       "      <th></th>\n",
       "      <th>crime_type</th>\n",
       "      <th>spearman</th>\n",
       "      <th>pval</th>\n",
       "    </tr>\n",
       "  </thead>\n",
       "  <tbody>\n",
       "    <tr>\n",
       "      <th>73</th>\n",
       "      <td>תקיפת שוטר בנסיבות חמורות</td>\n",
       "      <td>-0.633580</td>\n",
       "      <td>1.427418e-13</td>\n",
       "    </tr>\n",
       "    <tr>\n",
       "      <th>104</th>\n",
       "      <td>עבירות הנוגעות לנשואין</td>\n",
       "      <td>-0.601737</td>\n",
       "      <td>1.314667e-04</td>\n",
       "    </tr>\n",
       "    <tr>\n",
       "      <th>26</th>\n",
       "      <td>סטיסטי כל השאר</td>\n",
       "      <td>-0.599270</td>\n",
       "      <td>7.836588e-14</td>\n",
       "    </tr>\n",
       "    <tr>\n",
       "      <th>19</th>\n",
       "      <td>חבלה גופנית חמורה</td>\n",
       "      <td>-0.585154</td>\n",
       "      <td>4.061729e-13</td>\n",
       "    </tr>\n",
       "    <tr>\n",
       "      <th>15</th>\n",
       "      <td>הצתה</td>\n",
       "      <td>-0.523749</td>\n",
       "      <td>2.640501e-10</td>\n",
       "    </tr>\n",
       "    <tr>\n",
       "      <th>48</th>\n",
       "      <td>תקיפת והכשלת שוטר</td>\n",
       "      <td>-0.519593</td>\n",
       "      <td>3.286100e-10</td>\n",
       "    </tr>\n",
       "    <tr>\n",
       "      <th>35</th>\n",
       "      <td>עבירות נגד הסדר הצבורי</td>\n",
       "      <td>-0.518107</td>\n",
       "      <td>3.763584e-10</td>\n",
       "    </tr>\n",
       "    <tr>\n",
       "      <th>41</th>\n",
       "      <td>קטטות והפרעות ברחובות</td>\n",
       "      <td>-0.485683</td>\n",
       "      <td>7.130262e-09</td>\n",
       "    </tr>\n",
       "    <tr>\n",
       "      <th>89</th>\n",
       "      <td>התקהלות או התאגדות</td>\n",
       "      <td>-0.484651</td>\n",
       "      <td>5.225970e-06</td>\n",
       "    </tr>\n",
       "    <tr>\n",
       "      <th>81</th>\n",
       "      <td>נשיאה וייצור סכינים ופגיונות</td>\n",
       "      <td>-0.447119</td>\n",
       "      <td>4.336824e-04</td>\n",
       "    </tr>\n",
       "    <tr>\n",
       "      <th>24</th>\n",
       "      <td>סחיטה</td>\n",
       "      <td>-0.445226</td>\n",
       "      <td>1.395729e-07</td>\n",
       "    </tr>\n",
       "    <tr>\n",
       "      <th>56</th>\n",
       "      <td>ידוי אבנים</td>\n",
       "      <td>-0.440039</td>\n",
       "      <td>6.893715e-07</td>\n",
       "    </tr>\n",
       "    <tr>\n",
       "      <th>0</th>\n",
       "      <td>(תקיפה (למעט עובדי ציבור</td>\n",
       "      <td>-0.417852</td>\n",
       "      <td>9.224327e-07</td>\n",
       "    </tr>\n",
       "    <tr>\n",
       "      <th>28</th>\n",
       "      <td>עבירות אחרות כלפי בטחון</td>\n",
       "      <td>-0.415308</td>\n",
       "      <td>2.645617e-06</td>\n",
       "    </tr>\n",
       "    <tr>\n",
       "      <th>65</th>\n",
       "      <td>עבירות על פקוח כלכלי</td>\n",
       "      <td>-0.412504</td>\n",
       "      <td>2.582063e-06</td>\n",
       "    </tr>\n",
       "    <tr>\n",
       "      <th>9</th>\n",
       "      <td>גרימת נזק לרכוש בזדון</td>\n",
       "      <td>-0.397036</td>\n",
       "      <td>3.482937e-06</td>\n",
       "    </tr>\n",
       "    <tr>\n",
       "      <th>1</th>\n",
       "      <td>איומים</td>\n",
       "      <td>-0.386434</td>\n",
       "      <td>6.624485e-06</td>\n",
       "    </tr>\n",
       "    <tr>\n",
       "      <th>49</th>\n",
       "      <td>תקיפת עובדי צבור בתפקיד</td>\n",
       "      <td>-0.358423</td>\n",
       "      <td>5.421178e-05</td>\n",
       "    </tr>\n",
       "    <tr>\n",
       "      <th>29</th>\n",
       "      <td>עבירות אחרות כלפי חיי אדם</td>\n",
       "      <td>-0.336267</td>\n",
       "      <td>3.081473e-04</td>\n",
       "    </tr>\n",
       "    <tr>\n",
       "      <th>42</th>\n",
       "      <td>רשלנות ופחזות פלילית</td>\n",
       "      <td>-0.300769</td>\n",
       "      <td>5.612878e-04</td>\n",
       "    </tr>\n",
       "    <tr>\n",
       "      <th>10</th>\n",
       "      <td>החזקת כלי פריצה</td>\n",
       "      <td>0.312254</td>\n",
       "      <td>5.165847e-04</td>\n",
       "    </tr>\n",
       "    <tr>\n",
       "      <th>34</th>\n",
       "      <td>עבירות נגד המחשב</td>\n",
       "      <td>0.412923</td>\n",
       "      <td>1.273776e-06</td>\n",
       "    </tr>\n",
       "    <tr>\n",
       "      <th>5</th>\n",
       "      <td>גניבה שמוש רכב ללא רשות</td>\n",
       "      <td>0.452073</td>\n",
       "      <td>8.474866e-08</td>\n",
       "    </tr>\n",
       "    <tr>\n",
       "      <th>16</th>\n",
       "      <td>התפרצות לבית דירה</td>\n",
       "      <td>0.612905</td>\n",
       "      <td>1.478722e-14</td>\n",
       "    </tr>\n",
       "  </tbody>\n",
       "</table>\n",
       "</div>"
      ],
      "text/plain": [
       "                       crime_type  spearman          pval\n",
       "73      תקיפת שוטר בנסיבות חמורות -0.633580  1.427418e-13\n",
       "104        עבירות הנוגעות לנשואין -0.601737  1.314667e-04\n",
       "26                 סטיסטי כל השאר -0.599270  7.836588e-14\n",
       "19              חבלה גופנית חמורה -0.585154  4.061729e-13\n",
       "15                           הצתה -0.523749  2.640501e-10\n",
       "48              תקיפת והכשלת שוטר -0.519593  3.286100e-10\n",
       "35         עבירות נגד הסדר הצבורי -0.518107  3.763584e-10\n",
       "41          קטטות והפרעות ברחובות -0.485683  7.130262e-09\n",
       "89             התקהלות או התאגדות -0.484651  5.225970e-06\n",
       "81   נשיאה וייצור סכינים ופגיונות -0.447119  4.336824e-04\n",
       "24                          סחיטה -0.445226  1.395729e-07\n",
       "56                     ידוי אבנים -0.440039  6.893715e-07\n",
       "0        (תקיפה (למעט עובדי ציבור -0.417852  9.224327e-07\n",
       "28        עבירות אחרות כלפי בטחון -0.415308  2.645617e-06\n",
       "65           עבירות על פקוח כלכלי -0.412504  2.582063e-06\n",
       "9           גרימת נזק לרכוש בזדון -0.397036  3.482937e-06\n",
       "1                          איומים -0.386434  6.624485e-06\n",
       "49        תקיפת עובדי צבור בתפקיד -0.358423  5.421178e-05\n",
       "29      עבירות אחרות כלפי חיי אדם -0.336267  3.081473e-04\n",
       "42           רשלנות ופחזות פלילית -0.300769  5.612878e-04\n",
       "10                החזקת כלי פריצה  0.312254  5.165847e-04\n",
       "34               עבירות נגד המחשב  0.412923  1.273776e-06\n",
       "5         גניבה שמוש רכב ללא רשות  0.452073  8.474866e-08\n",
       "16              התפרצות לבית דירה  0.612905  1.478722e-14"
      ]
     },
     "execution_count": 132,
     "metadata": {},
     "output_type": "execute_result"
    }
   ],
   "source": [
    "alpha = 0.05\n",
    "# when we take alpha that says if it happens under 1/20 than it is significant but we use multiple\n",
    "# comparisons so we need to fix alpha to be related to the comparisons we do and the simple fix is to take the alpha values and divid by the number of comparisons we\n",
    "# do\n",
    "ans = pd.DataFrame(ans).sort_values('pval')\n",
    "ans = ans[ans['pval']<alpha/len(ans)]\n",
    "ans.sort_values('spearman')\n",
    "# and we see it dropped down the number of significant crime_types"
   ]
  },
  {
   "cell_type": "code",
   "execution_count": 137,
   "id": "4fc54f8b-201f-4e5e-a335-08bbdf567e72",
   "metadata": {},
   "outputs": [
    {
     "data": {
      "text/plain": [
       "<Axes: xlabel='social_rank', ylabel='tikim_norm'>"
      ]
     },
     "execution_count": 137,
     "metadata": {},
     "output_type": "execute_result"
    },
    {
     "data": {
      "image/png": "[encoded data removed]",
      "text/plain": [
       "<Figure size 640x480 with 1 Axes>"
      ]
     },
     "metadata": {},
     "output_type": "display_data"
    }
   ],
   "source": [
    "import seaborn as sns\n",
    "df_crime = df_to_train[df_to_train['crime_type'] == 'תקיפת שוטר בנסיבות חמורות']\n",
    "sns.lineplot(x=df_crime['social_rank'], y=df_crime['tikim_norm'])"
   ]
  },
  {
   "cell_type": "code",
   "execution_count": null,
   "id": "df20a46e-c647-43ca-936e-83ee8c8088f5",
   "metadata": {},
   "outputs": [],
   "source": []
  }
 ],
 "metadata": {
  "kernelspec": {
   "display_name": "Python 3 (ipykernel)",
   "language": "python",
   "name": "python3"
  },
  "language_info": {
   "codemirror_mode": {
    "name": "ipython",
    "version": 3
   },
   "file_extension": ".py",
   "mimetype": "text/x-python",
   "name": "python",
   "nbconvert_exporter": "python",
   "pygments_lexer": "ipython3",
   "version": "3.10.12"
  }
 },
 "nbformat": 4,
 "nbformat_minor": 5
}
